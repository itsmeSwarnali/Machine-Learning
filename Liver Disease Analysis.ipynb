{
 "cells": [
  {
   "cell_type": "code",
   "execution_count": 32,
   "id": "6b31cd9f-40ed-4a89-a3ad-001ae977b6e3",
   "metadata": {},
   "outputs": [],
   "source": [
    "from tensorflow import keras\n",
    "from keras.models import Sequential\n",
    "from keras.layers import Dense\n",
    "\n",
    "import tensorflow as tf\n",
    "from tensorflow.keras import layers\n",
    "#from kerastuner.tuners import RandomSearch\n",
    "\n",
    "import pandas as pd\n",
    "import seaborn as sns\n",
    "import numpy as np\n",
    "import matplotlib.pyplot as plt\n",
    "from sklearn.preprocessing import LabelEncoder\n",
    "from sklearn.preprocessing import StandardScaler\n",
    "from xgboost import plot_importance\n",
    "\n",
    "from sklearn.model_selection import train_test_split \n",
    "\n",
    "from sklearn import metrics\n",
    "\n",
    "from sklearn.feature_selection import SelectFromModel\n",
    "\n",
    "import xgboost as xgb\n",
    "from xgboost import XGBClassifier\n",
    "from sklearn.ensemble import RandomForestClassifier\n",
    "from sklearn.ensemble import AdaBoostClassifier\n",
    "from sklearn.linear_model import LogisticRegression\n",
    "from sklearn.naive_bayes import GaussianNB\n",
    "from sklearn.neighbors import KNeighborsClassifier\n",
    "from sklearn import svm\n",
    "from sklearn.svm import SVC\n",
    "from sklearn.tree import DecisionTreeClassifier \n",
    "\n",
    "from sklearn.metrics import classification_report, accuracy_score, confusion_matrix\n",
    "from sklearn.metrics import plot_roc_curve\n",
    "from sklearn import tree\n",
    "\n",
    "from sklearn.model_selection import RandomizedSearchCV\n",
    "\n",
    "\n",
    "from sklearn.metrics import r2_score\n",
    "from sklearn.metrics import mean_absolute_error\n",
    "from sklearn.metrics import mean_squared_error\n"
   ]
  },
  {
   "cell_type": "code",
   "execution_count": 2,
   "id": "dd153d8b-3773-4148-997c-32511595c11b",
   "metadata": {},
   "outputs": [
    {
     "data": {
      "text/html": [
       "<div>\n",
       "<style scoped>\n",
       "    .dataframe tbody tr th:only-of-type {\n",
       "        vertical-align: middle;\n",
       "    }\n",
       "\n",
       "    .dataframe tbody tr th {\n",
       "        vertical-align: top;\n",
       "    }\n",
       "\n",
       "    .dataframe thead th {\n",
       "        text-align: right;\n",
       "    }\n",
       "</style>\n",
       "<table border=\"1\" class=\"dataframe\">\n",
       "  <thead>\n",
       "    <tr style=\"text-align: right;\">\n",
       "      <th></th>\n",
       "      <th>Age of the patient</th>\n",
       "      <th>Gender of the patient</th>\n",
       "      <th>Total Bilirubin</th>\n",
       "      <th>Direct Bilirubin</th>\n",
       "      <th>Alkphos Alkaline Phosphotase</th>\n",
       "      <th>Sgpt Alamine Aminotransferase</th>\n",
       "      <th>Sgot Aspartate Aminotransferase</th>\n",
       "      <th>Total Protiens</th>\n",
       "      <th>ALB Albumin</th>\n",
       "      <th>A/G Ratio Albumin and Globulin Ratio</th>\n",
       "      <th>Result</th>\n",
       "    </tr>\n",
       "  </thead>\n",
       "  <tbody>\n",
       "    <tr>\n",
       "      <th>24581</th>\n",
       "      <td>60.0</td>\n",
       "      <td>Male</td>\n",
       "      <td>0.9</td>\n",
       "      <td>0.2</td>\n",
       "      <td>170.0</td>\n",
       "      <td>33.0</td>\n",
       "      <td>66.0</td>\n",
       "      <td>7.0</td>\n",
       "      <td>3.0</td>\n",
       "      <td>0.75</td>\n",
       "      <td>1</td>\n",
       "    </tr>\n",
       "    <tr>\n",
       "      <th>380</th>\n",
       "      <td>50.0</td>\n",
       "      <td>Male</td>\n",
       "      <td>1.7</td>\n",
       "      <td>0.8</td>\n",
       "      <td>331.0</td>\n",
       "      <td>36.0</td>\n",
       "      <td>53.0</td>\n",
       "      <td>7.3</td>\n",
       "      <td>3.4</td>\n",
       "      <td>0.90</td>\n",
       "      <td>1</td>\n",
       "    </tr>\n",
       "    <tr>\n",
       "      <th>9193</th>\n",
       "      <td>12.0</td>\n",
       "      <td>Male</td>\n",
       "      <td>0.8</td>\n",
       "      <td>0.2</td>\n",
       "      <td>142.0</td>\n",
       "      <td>26.0</td>\n",
       "      <td>25.0</td>\n",
       "      <td>6.0</td>\n",
       "      <td>2.6</td>\n",
       "      <td>0.70</td>\n",
       "      <td>1</td>\n",
       "    </tr>\n",
       "    <tr>\n",
       "      <th>9875</th>\n",
       "      <td>34.0</td>\n",
       "      <td>Female</td>\n",
       "      <td>27.7</td>\n",
       "      <td>10.8</td>\n",
       "      <td>380.0</td>\n",
       "      <td>39.0</td>\n",
       "      <td>348.0</td>\n",
       "      <td>7.1</td>\n",
       "      <td>2.3</td>\n",
       "      <td>0.40</td>\n",
       "      <td>1</td>\n",
       "    </tr>\n",
       "    <tr>\n",
       "      <th>17869</th>\n",
       "      <td>22.0</td>\n",
       "      <td>Male</td>\n",
       "      <td>1.2</td>\n",
       "      <td>0.4</td>\n",
       "      <td>179.0</td>\n",
       "      <td>63.0</td>\n",
       "      <td>39.0</td>\n",
       "      <td>6.1</td>\n",
       "      <td>3.3</td>\n",
       "      <td>NaN</td>\n",
       "      <td>2</td>\n",
       "    </tr>\n",
       "    <tr>\n",
       "      <th>11822</th>\n",
       "      <td>21.0</td>\n",
       "      <td>Male</td>\n",
       "      <td>3.7</td>\n",
       "      <td>2.1</td>\n",
       "      <td>490.0</td>\n",
       "      <td>115.0</td>\n",
       "      <td>91.0</td>\n",
       "      <td>6.5</td>\n",
       "      <td>2.8</td>\n",
       "      <td>0.70</td>\n",
       "      <td>1</td>\n",
       "    </tr>\n",
       "    <tr>\n",
       "      <th>24777</th>\n",
       "      <td>32.0</td>\n",
       "      <td>Male</td>\n",
       "      <td>2.4</td>\n",
       "      <td>1.1</td>\n",
       "      <td>168.0</td>\n",
       "      <td>33.0</td>\n",
       "      <td>50.0</td>\n",
       "      <td>5.1</td>\n",
       "      <td>2.6</td>\n",
       "      <td>1.00</td>\n",
       "      <td>1</td>\n",
       "    </tr>\n",
       "    <tr>\n",
       "      <th>8391</th>\n",
       "      <td>22.0</td>\n",
       "      <td>Female</td>\n",
       "      <td>0.6</td>\n",
       "      <td>0.2</td>\n",
       "      <td>290.0</td>\n",
       "      <td>26.0</td>\n",
       "      <td>21.0</td>\n",
       "      <td>6.0</td>\n",
       "      <td>3.0</td>\n",
       "      <td>1.00</td>\n",
       "      <td>1</td>\n",
       "    </tr>\n",
       "    <tr>\n",
       "      <th>17063</th>\n",
       "      <td>75.0</td>\n",
       "      <td>Female</td>\n",
       "      <td>1.0</td>\n",
       "      <td>0.3</td>\n",
       "      <td>75.0</td>\n",
       "      <td>25.0</td>\n",
       "      <td>26.0</td>\n",
       "      <td>5.1</td>\n",
       "      <td>2.9</td>\n",
       "      <td>1.30</td>\n",
       "      <td>1</td>\n",
       "    </tr>\n",
       "    <tr>\n",
       "      <th>25982</th>\n",
       "      <td>20.0</td>\n",
       "      <td>Male</td>\n",
       "      <td>1.4</td>\n",
       "      <td>0.7</td>\n",
       "      <td>195.0</td>\n",
       "      <td>36.0</td>\n",
       "      <td>16.0</td>\n",
       "      <td>7.9</td>\n",
       "      <td>3.7</td>\n",
       "      <td>0.90</td>\n",
       "      <td>2</td>\n",
       "    </tr>\n",
       "  </tbody>\n",
       "</table>\n",
       "</div>"
      ],
      "text/plain": [
       "       Age of the patient Gender of the patient  Total Bilirubin  \\\n",
       "24581                60.0                  Male              0.9   \n",
       "380                  50.0                  Male              1.7   \n",
       "9193                 12.0                  Male              0.8   \n",
       "9875                 34.0                Female             27.7   \n",
       "17869                22.0                  Male              1.2   \n",
       "11822                21.0                  Male              3.7   \n",
       "24777                32.0                  Male              2.4   \n",
       "8391                 22.0                Female              0.6   \n",
       "17063                75.0                Female              1.0   \n",
       "25982                20.0                  Male              1.4   \n",
       "\n",
       "       Direct Bilirubin  Alkphos Alkaline Phosphotase  \\\n",
       "24581               0.2                         170.0   \n",
       "380                 0.8                         331.0   \n",
       "9193                0.2                         142.0   \n",
       "9875               10.8                         380.0   \n",
       "17869               0.4                         179.0   \n",
       "11822               2.1                         490.0   \n",
       "24777               1.1                         168.0   \n",
       "8391                0.2                         290.0   \n",
       "17063               0.3                          75.0   \n",
       "25982               0.7                         195.0   \n",
       "\n",
       "       Sgpt Alamine Aminotransferase  Sgot Aspartate Aminotransferase  \\\n",
       "24581                           33.0                             66.0   \n",
       "380                             36.0                             53.0   \n",
       "9193                            26.0                             25.0   \n",
       "9875                            39.0                            348.0   \n",
       "17869                           63.0                             39.0   \n",
       "11822                          115.0                             91.0   \n",
       "24777                           33.0                             50.0   \n",
       "8391                            26.0                             21.0   \n",
       "17063                           25.0                             26.0   \n",
       "25982                           36.0                             16.0   \n",
       "\n",
       "       Total Protiens  ALB Albumin  A/G Ratio Albumin and Globulin Ratio  \\\n",
       "24581             7.0          3.0                                  0.75   \n",
       "380               7.3          3.4                                  0.90   \n",
       "9193              6.0          2.6                                  0.70   \n",
       "9875              7.1          2.3                                  0.40   \n",
       "17869             6.1          3.3                                   NaN   \n",
       "11822             6.5          2.8                                  0.70   \n",
       "24777             5.1          2.6                                  1.00   \n",
       "8391              6.0          3.0                                  1.00   \n",
       "17063             5.1          2.9                                  1.30   \n",
       "25982             7.9          3.7                                  0.90   \n",
       "\n",
       "       Result  \n",
       "24581       1  \n",
       "380         1  \n",
       "9193        1  \n",
       "9875        1  \n",
       "17869       2  \n",
       "11822       1  \n",
       "24777       1  \n",
       "8391        1  \n",
       "17063       1  \n",
       "25982       2  "
      ]
     },
     "execution_count": 2,
     "metadata": {},
     "output_type": "execute_result"
    }
   ],
   "source": [
    "df = pd.read_csv(\"F:\\Research\\Liver\\\\Liver Patient Dataset (LPD)_train.csv\")\n",
    "df.sample(10)"
   ]
  },
  {
   "cell_type": "code",
   "execution_count": 3,
   "id": "46182d63-ae1c-4045-be0b-4c19154d5382",
   "metadata": {},
   "outputs": [
    {
     "data": {
      "text/plain": [
       "(30691, 11)"
      ]
     },
     "execution_count": 3,
     "metadata": {},
     "output_type": "execute_result"
    }
   ],
   "source": [
    "df.shape"
   ]
  },
  {
   "cell_type": "code",
   "execution_count": 4,
   "id": "8c2fef35-ed64-4695-9a9a-343e8c384380",
   "metadata": {},
   "outputs": [
    {
     "data": {
      "text/plain": [
       "11323"
      ]
     },
     "execution_count": 4,
     "metadata": {},
     "output_type": "execute_result"
    }
   ],
   "source": [
    "df.duplicated().sum()"
   ]
  },
  {
   "cell_type": "code",
   "execution_count": 5,
   "id": "b310589e-1505-44c1-b884-f2a2c00457e6",
   "metadata": {},
   "outputs": [
    {
     "data": {
      "text/plain": [
       "Age of the patient                        2\n",
       "Gender of the patient                   902\n",
       "Total Bilirubin                         648\n",
       "Direct Bilirubin                        561\n",
       "Alkphos Alkaline Phosphotase            796\n",
       "Sgpt Alamine Aminotransferase           538\n",
       "Sgot Aspartate Aminotransferase         462\n",
       "Total Protiens                          463\n",
       "ALB Albumin                             494\n",
       "A/G Ratio Albumin and Globulin Ratio    559\n",
       "Result                                    0\n",
       "dtype: int64"
      ]
     },
     "execution_count": 5,
     "metadata": {},
     "output_type": "execute_result"
    }
   ],
   "source": [
    "df.isna().sum()"
   ]
  },
  {
   "cell_type": "code",
   "execution_count": 6,
   "id": "f137a078-4784-43e8-9666-3256b98521da",
   "metadata": {},
   "outputs": [
    {
     "data": {
      "text/plain": [
       "(16389, 11)"
      ]
     },
     "execution_count": 6,
     "metadata": {},
     "output_type": "execute_result"
    }
   ],
   "source": [
    "df=df.dropna(how='any')\n",
    "df = df.drop_duplicates()\n",
    "df.shape"
   ]
  },
  {
   "cell_type": "code",
   "execution_count": 7,
   "id": "c48d3b36-cd74-4701-9455-0bcd1c529f4f",
   "metadata": {},
   "outputs": [
    {
     "data": {
      "text/plain": [
       "Age of the patient                      0\n",
       "Gender of the patient                   0\n",
       "Total Bilirubin                         0\n",
       "Direct Bilirubin                        0\n",
       "Alkphos Alkaline Phosphotase            0\n",
       "Sgpt Alamine Aminotransferase           0\n",
       "Sgot Aspartate Aminotransferase         0\n",
       "Total Protiens                          0\n",
       "ALB Albumin                             0\n",
       "A/G Ratio Albumin and Globulin Ratio    0\n",
       "Result                                  0\n",
       "dtype: int64"
      ]
     },
     "execution_count": 7,
     "metadata": {},
     "output_type": "execute_result"
    }
   ],
   "source": [
    "df.isnull().sum()"
   ]
  },
  {
   "cell_type": "code",
   "execution_count": 8,
   "id": "39eade7a-c0aa-4368-9253-2e37723d5adb",
   "metadata": {},
   "outputs": [
    {
     "data": {
      "text/html": [
       "<div>\n",
       "<style scoped>\n",
       "    .dataframe tbody tr th:only-of-type {\n",
       "        vertical-align: middle;\n",
       "    }\n",
       "\n",
       "    .dataframe tbody tr th {\n",
       "        vertical-align: top;\n",
       "    }\n",
       "\n",
       "    .dataframe thead th {\n",
       "        text-align: right;\n",
       "    }\n",
       "</style>\n",
       "<table border=\"1\" class=\"dataframe\">\n",
       "  <thead>\n",
       "    <tr style=\"text-align: right;\">\n",
       "      <th></th>\n",
       "      <th>count</th>\n",
       "      <th>mean</th>\n",
       "      <th>std</th>\n",
       "      <th>min</th>\n",
       "      <th>25%</th>\n",
       "      <th>50%</th>\n",
       "      <th>75%</th>\n",
       "      <th>max</th>\n",
       "    </tr>\n",
       "  </thead>\n",
       "  <tbody>\n",
       "    <tr>\n",
       "      <th>Age of the patient</th>\n",
       "      <td>16389.0</td>\n",
       "      <td>43.770517</td>\n",
       "      <td>16.529487</td>\n",
       "      <td>4.0</td>\n",
       "      <td>32.0</td>\n",
       "      <td>45.00</td>\n",
       "      <td>55.0</td>\n",
       "      <td>90.0</td>\n",
       "    </tr>\n",
       "    <tr>\n",
       "      <th>Total Bilirubin</th>\n",
       "      <td>16389.0</td>\n",
       "      <td>3.360431</td>\n",
       "      <td>6.208708</td>\n",
       "      <td>0.4</td>\n",
       "      <td>0.8</td>\n",
       "      <td>1.00</td>\n",
       "      <td>2.7</td>\n",
       "      <td>75.0</td>\n",
       "    </tr>\n",
       "    <tr>\n",
       "      <th>Direct Bilirubin</th>\n",
       "      <td>16389.0</td>\n",
       "      <td>1.530429</td>\n",
       "      <td>2.894558</td>\n",
       "      <td>0.1</td>\n",
       "      <td>0.2</td>\n",
       "      <td>0.30</td>\n",
       "      <td>1.3</td>\n",
       "      <td>19.7</td>\n",
       "    </tr>\n",
       "    <tr>\n",
       "      <th>Alkphos Alkaline Phosphotase</th>\n",
       "      <td>16389.0</td>\n",
       "      <td>290.826835</td>\n",
       "      <td>240.945972</td>\n",
       "      <td>63.0</td>\n",
       "      <td>175.0</td>\n",
       "      <td>209.00</td>\n",
       "      <td>298.0</td>\n",
       "      <td>2110.0</td>\n",
       "    </tr>\n",
       "    <tr>\n",
       "      <th>Sgpt Alamine Aminotransferase</th>\n",
       "      <td>16389.0</td>\n",
       "      <td>80.147294</td>\n",
       "      <td>180.010180</td>\n",
       "      <td>10.0</td>\n",
       "      <td>23.0</td>\n",
       "      <td>35.00</td>\n",
       "      <td>62.0</td>\n",
       "      <td>2000.0</td>\n",
       "    </tr>\n",
       "    <tr>\n",
       "      <th>Sgot Aspartate Aminotransferase</th>\n",
       "      <td>16389.0</td>\n",
       "      <td>111.367564</td>\n",
       "      <td>280.665994</td>\n",
       "      <td>10.0</td>\n",
       "      <td>25.0</td>\n",
       "      <td>42.00</td>\n",
       "      <td>88.0</td>\n",
       "      <td>4929.0</td>\n",
       "    </tr>\n",
       "    <tr>\n",
       "      <th>Total Protiens</th>\n",
       "      <td>16389.0</td>\n",
       "      <td>6.487705</td>\n",
       "      <td>1.090549</td>\n",
       "      <td>2.7</td>\n",
       "      <td>5.8</td>\n",
       "      <td>6.60</td>\n",
       "      <td>7.2</td>\n",
       "      <td>9.6</td>\n",
       "    </tr>\n",
       "    <tr>\n",
       "      <th>ALB Albumin</th>\n",
       "      <td>16389.0</td>\n",
       "      <td>3.136573</td>\n",
       "      <td>0.794006</td>\n",
       "      <td>0.9</td>\n",
       "      <td>2.6</td>\n",
       "      <td>3.10</td>\n",
       "      <td>3.8</td>\n",
       "      <td>5.5</td>\n",
       "    </tr>\n",
       "    <tr>\n",
       "      <th>A/G Ratio Albumin and Globulin Ratio</th>\n",
       "      <td>16389.0</td>\n",
       "      <td>0.946612</td>\n",
       "      <td>0.323337</td>\n",
       "      <td>0.3</td>\n",
       "      <td>0.7</td>\n",
       "      <td>0.93</td>\n",
       "      <td>1.1</td>\n",
       "      <td>2.8</td>\n",
       "    </tr>\n",
       "    <tr>\n",
       "      <th>Result</th>\n",
       "      <td>16389.0</td>\n",
       "      <td>1.283056</td>\n",
       "      <td>0.450497</td>\n",
       "      <td>1.0</td>\n",
       "      <td>1.0</td>\n",
       "      <td>1.00</td>\n",
       "      <td>2.0</td>\n",
       "      <td>2.0</td>\n",
       "    </tr>\n",
       "  </tbody>\n",
       "</table>\n",
       "</div>"
      ],
      "text/plain": [
       "                                        count        mean         std   min  \\\n",
       "Age of the patient                    16389.0   43.770517   16.529487   4.0   \n",
       "Total Bilirubin                       16389.0    3.360431    6.208708   0.4   \n",
       "Direct Bilirubin                      16389.0    1.530429    2.894558   0.1   \n",
       "Alkphos Alkaline Phosphotase          16389.0  290.826835  240.945972  63.0   \n",
       "Sgpt Alamine Aminotransferase         16389.0   80.147294  180.010180  10.0   \n",
       "Sgot Aspartate Aminotransferase       16389.0  111.367564  280.665994  10.0   \n",
       "Total Protiens                        16389.0    6.487705    1.090549   2.7   \n",
       "ALB Albumin                           16389.0    3.136573    0.794006   0.9   \n",
       "A/G Ratio Albumin and Globulin Ratio  16389.0    0.946612    0.323337   0.3   \n",
       "Result                                16389.0    1.283056    0.450497   1.0   \n",
       "\n",
       "                                        25%     50%    75%     max  \n",
       "Age of the patient                     32.0   45.00   55.0    90.0  \n",
       "Total Bilirubin                         0.8    1.00    2.7    75.0  \n",
       "Direct Bilirubin                        0.2    0.30    1.3    19.7  \n",
       "Alkphos Alkaline Phosphotase          175.0  209.00  298.0  2110.0  \n",
       "Sgpt Alamine Aminotransferase          23.0   35.00   62.0  2000.0  \n",
       "Sgot Aspartate Aminotransferase        25.0   42.00   88.0  4929.0  \n",
       "Total Protiens                          5.8    6.60    7.2     9.6  \n",
       "ALB Albumin                             2.6    3.10    3.8     5.5  \n",
       "A/G Ratio Albumin and Globulin Ratio    0.7    0.93    1.1     2.8  \n",
       "Result                                  1.0    1.00    2.0     2.0  "
      ]
     },
     "execution_count": 8,
     "metadata": {},
     "output_type": "execute_result"
    }
   ],
   "source": [
    "df.describe().T"
   ]
  },
  {
   "cell_type": "code",
   "execution_count": 9,
   "id": "1a48f131-d421-4152-80da-894de5d98a9b",
   "metadata": {},
   "outputs": [
    {
     "data": {
      "text/plain": [
       "Result\n",
       "1    11750\n",
       "2     4639\n",
       "dtype: int64"
      ]
     },
     "execution_count": 9,
     "metadata": {},
     "output_type": "execute_result"
    }
   ],
   "source": [
    "value = df.value_counts('Result')\n",
    "value"
   ]
  },
  {
   "cell_type": "code",
   "execution_count": 10,
   "id": "2e4981fd-04ef-4e2b-9b38-4d8bd8b0e094",
   "metadata": {},
   "outputs": [
    {
     "data": {
      "text/plain": [
       "<AxesSubplot:xlabel='Result', ylabel='count'>"
      ]
     },
     "execution_count": 10,
     "metadata": {},
     "output_type": "execute_result"
    },
    {
     "data": {
      "image/png": "[encoded data removed]",
      "text/plain": [
       "<Figure size 432x288 with 1 Axes>"
      ]
     },
     "metadata": {
      "needs_background": "light"
     },
     "output_type": "display_data"
    }
   ],
   "source": [
    "sns.countplot(x=\"Result\",  palette=\"dark:salmon_r\",data = df)"
   ]
  },
  {
   "cell_type": "code",
   "execution_count": 11,
   "id": "42eb1dbd-8184-41c6-bbce-a4c6ed99e77f",
   "metadata": {},
   "outputs": [
    {
     "name": "stdout",
     "output_type": "stream",
     "text": [
      "Number of patients that are male:  11414\n",
      "Number of patients that are female:  4975\n"
     ]
    },
    {
     "data": {
      "image/png": "[encoded data removed]",
      "text/plain": [
       "<Figure size 432x288 with 1 Axes>"
      ]
     },
     "metadata": {
      "needs_background": "light"
     },
     "output_type": "display_data"
    }
   ],
   "source": [
    "\n",
    "# Plotting the Number of Male and Female patients\n",
    "sns.countplot(data=df, x = 'Gender of the patient', label='Count', palette=\"dark:salmon_r\")\n",
    "\n",
    "M, F = df['Gender of the patient'].value_counts()\n",
    "print('Number of patients that are male: ',M)\n",
    "print('Number of patients that are female: ',F)"
   ]
  },
  {
   "cell_type": "code",
   "execution_count": 12,
   "id": "6dc76f5e-486b-4344-a701-f0db32e35d2e",
   "metadata": {},
   "outputs": [
    {
     "data": {
      "text/plain": [
       "<seaborn.axisgrid.JointGrid at 0x2a78f81d730>"
      ]
     },
     "execution_count": 12,
     "metadata": {},
     "output_type": "execute_result"
    },
    {
     "data": {
      "image/png": "[encoded data removed]",
      "text/plain": [
       "<Figure size 432x432 with 3 Axes>"
      ]
     },
     "metadata": {
      "needs_background": "light"
     },
     "output_type": "display_data"
    }
   ],
   "source": [
    "# Plotting Total_Bilirubin vs Direct_Bilirubin\n",
    "\n",
    "\n",
    "sns.jointplot(data=df, x=\"Total Bilirubin\", y=\"Direct Bilirubin\",kind=\"reg\", scatter = True, color=\"#E98E83\")\n"
   ]
  },
  {
   "cell_type": "markdown",
   "id": "e7de23ce-df0d-4062-aa8c-1afd8f35a019",
   "metadata": {},
   "source": [
    "**Histogram**"
   ]
  },
  {
   "cell_type": "code",
   "execution_count": 13,
   "id": "fafbb61b-4a98-414a-b05f-3d0ca11dfbe7",
   "metadata": {
    "tags": []
   },
   "outputs": [
    {
     "data": {
      "text/plain": [
       "'df.hist(figsize=(20,20), xrot=-45, bins=10)\\nplt.show()'"
      ]
     },
     "execution_count": 13,
     "metadata": {},
     "output_type": "execute_result"
    },
    {
     "data": {
      "image/png": "[encoded data removed]",
      "text/plain": [
       "<Figure size 1080x1080 with 12 Axes>"
      ]
     },
     "metadata": {
      "needs_background": "light"
     },
     "output_type": "display_data"
    }
   ],
   "source": [
    "df.hist(figsize=(15,15), bins=30, xlabelsize=10, ylabelsize=10);\n",
    "\n",
    "'''df.hist(figsize=(20,20), xrot=-45, bins=10)\n",
    "plt.show()'''"
   ]
  },
  {
   "cell_type": "markdown",
   "id": "b2142c3d-6865-4806-984a-f37cca51dfac",
   "metadata": {},
   "source": [
    "**Correlation**"
   ]
  },
  {
   "cell_type": "code",
   "execution_count": 14,
   "id": "8d427a82-db00-420d-ab4e-3706c8b6d5ba",
   "metadata": {
    "tags": []
   },
   "outputs": [
    {
     "data": {
      "image/png": "[encoded data removed]",
      "text/plain": [
       "<Figure size 576x576 with 2 Axes>"
      ]
     },
     "metadata": {
      "needs_background": "light"
     },
     "output_type": "display_data"
    }
   ],
   "source": [
    "plt.subplots(figsize=(8,8))\n",
    "sns.heatmap(df.corr(),linecolor='black',vmax=1.0,square=True,cmap=\"magma\",annot=True)\n",
    "plt.title('Features Correlations Liver Disease')\n",
    "plt.show()"
   ]
  },
  {
   "cell_type": "code",
   "execution_count": null,
   "id": "c9980ab3-6788-4e3d-9ac6-a350e1c306dc",
   "metadata": {},
   "outputs": [],
   "source": []
  },
  {
   "cell_type": "markdown",
   "id": "be994225-fe7b-499f-b6c8-d2b3cba81e29",
   "metadata": {},
   "source": [
    "**Label Encoding**"
   ]
  },
  {
   "cell_type": "code",
   "execution_count": 15,
   "id": "d7a11ab2-9071-446c-ae0d-0529f40bc6a7",
   "metadata": {},
   "outputs": [],
   "source": [
    "from sklearn.preprocessing import LabelEncoder\n",
    "labelE = LabelEncoder()\n",
    "df['Gender of the patient'] = labelE.fit_transform(df['Gender of the patient'])"
   ]
  },
  {
   "cell_type": "code",
   "execution_count": 16,
   "id": "f4bf5d5f-f601-42dd-99d2-91f97f1eebad",
   "metadata": {},
   "outputs": [
    {
     "data": {
      "text/html": [
       "<div>\n",
       "<style scoped>\n",
       "    .dataframe tbody tr th:only-of-type {\n",
       "        vertical-align: middle;\n",
       "    }\n",
       "\n",
       "    .dataframe tbody tr th {\n",
       "        vertical-align: top;\n",
       "    }\n",
       "\n",
       "    .dataframe thead th {\n",
       "        text-align: right;\n",
       "    }\n",
       "</style>\n",
       "<table border=\"1\" class=\"dataframe\">\n",
       "  <thead>\n",
       "    <tr style=\"text-align: right;\">\n",
       "      <th></th>\n",
       "      <th>Age of the patient</th>\n",
       "      <th>Gender of the patient</th>\n",
       "      <th>Total Bilirubin</th>\n",
       "      <th>Direct Bilirubin</th>\n",
       "      <th>Alkphos Alkaline Phosphotase</th>\n",
       "      <th>Sgpt Alamine Aminotransferase</th>\n",
       "      <th>Sgot Aspartate Aminotransferase</th>\n",
       "      <th>Total Protiens</th>\n",
       "      <th>ALB Albumin</th>\n",
       "      <th>A/G Ratio Albumin and Globulin Ratio</th>\n",
       "      <th>Result</th>\n",
       "    </tr>\n",
       "  </thead>\n",
       "  <tbody>\n",
       "    <tr>\n",
       "      <th>10848</th>\n",
       "      <td>42.0</td>\n",
       "      <td>1</td>\n",
       "      <td>0.8</td>\n",
       "      <td>0.2</td>\n",
       "      <td>150.0</td>\n",
       "      <td>25.0</td>\n",
       "      <td>23.0</td>\n",
       "      <td>7.5</td>\n",
       "      <td>3.9</td>\n",
       "      <td>1.0</td>\n",
       "      <td>1</td>\n",
       "    </tr>\n",
       "    <tr>\n",
       "      <th>15679</th>\n",
       "      <td>13.0</td>\n",
       "      <td>1</td>\n",
       "      <td>15.0</td>\n",
       "      <td>8.2</td>\n",
       "      <td>289.0</td>\n",
       "      <td>58.0</td>\n",
       "      <td>80.0</td>\n",
       "      <td>5.3</td>\n",
       "      <td>2.2</td>\n",
       "      <td>0.7</td>\n",
       "      <td>1</td>\n",
       "    </tr>\n",
       "    <tr>\n",
       "      <th>1233</th>\n",
       "      <td>49.0</td>\n",
       "      <td>1</td>\n",
       "      <td>1.8</td>\n",
       "      <td>0.8</td>\n",
       "      <td>215.0</td>\n",
       "      <td>53.0</td>\n",
       "      <td>58.0</td>\n",
       "      <td>6.4</td>\n",
       "      <td>3.8</td>\n",
       "      <td>1.4</td>\n",
       "      <td>1</td>\n",
       "    </tr>\n",
       "    <tr>\n",
       "      <th>11161</th>\n",
       "      <td>32.0</td>\n",
       "      <td>1</td>\n",
       "      <td>1.6</td>\n",
       "      <td>1.0</td>\n",
       "      <td>588.0</td>\n",
       "      <td>74.0</td>\n",
       "      <td>113.0</td>\n",
       "      <td>7.3</td>\n",
       "      <td>2.4</td>\n",
       "      <td>0.4</td>\n",
       "      <td>1</td>\n",
       "    </tr>\n",
       "    <tr>\n",
       "      <th>13066</th>\n",
       "      <td>33.0</td>\n",
       "      <td>1</td>\n",
       "      <td>7.1</td>\n",
       "      <td>3.3</td>\n",
       "      <td>258.0</td>\n",
       "      <td>80.0</td>\n",
       "      <td>113.0</td>\n",
       "      <td>6.2</td>\n",
       "      <td>2.9</td>\n",
       "      <td>0.8</td>\n",
       "      <td>1</td>\n",
       "    </tr>\n",
       "  </tbody>\n",
       "</table>\n",
       "</div>"
      ],
      "text/plain": [
       "       Age of the patient  Gender of the patient  Total Bilirubin  \\\n",
       "10848                42.0                      1              0.8   \n",
       "15679                13.0                      1             15.0   \n",
       "1233                 49.0                      1              1.8   \n",
       "11161                32.0                      1              1.6   \n",
       "13066                33.0                      1              7.1   \n",
       "\n",
       "       Direct Bilirubin  Alkphos Alkaline Phosphotase  \\\n",
       "10848               0.2                         150.0   \n",
       "15679               8.2                         289.0   \n",
       "1233                0.8                         215.0   \n",
       "11161               1.0                         588.0   \n",
       "13066               3.3                         258.0   \n",
       "\n",
       "       Sgpt Alamine Aminotransferase  Sgot Aspartate Aminotransferase  \\\n",
       "10848                           25.0                             23.0   \n",
       "15679                           58.0                             80.0   \n",
       "1233                            53.0                             58.0   \n",
       "11161                           74.0                            113.0   \n",
       "13066                           80.0                            113.0   \n",
       "\n",
       "       Total Protiens  ALB Albumin  A/G Ratio Albumin and Globulin Ratio  \\\n",
       "10848             7.5          3.9                                   1.0   \n",
       "15679             5.3          2.2                                   0.7   \n",
       "1233              6.4          3.8                                   1.4   \n",
       "11161             7.3          2.4                                   0.4   \n",
       "13066             6.2          2.9                                   0.8   \n",
       "\n",
       "       Result  \n",
       "10848       1  \n",
       "15679       1  \n",
       "1233        1  \n",
       "11161       1  \n",
       "13066       1  "
      ]
     },
     "execution_count": 16,
     "metadata": {},
     "output_type": "execute_result"
    }
   ],
   "source": [
    "df.sample(5)"
   ]
  },
  {
   "cell_type": "markdown",
   "id": "91510229-cf38-41eb-bb1f-1142a063726c",
   "metadata": {},
   "source": [
    "**X and y seperation**"
   ]
  },
  {
   "cell_type": "code",
   "execution_count": 17,
   "id": "c7bbdcd8-ee0f-46d7-b4d4-486c5af3d66f",
   "metadata": {},
   "outputs": [],
   "source": [
    "x = df.drop('Result',axis = 1)\n",
    "y = df['Result']"
   ]
  },
  {
   "cell_type": "code",
   "execution_count": 18,
   "id": "df54dc40-df4d-4c00-a2ec-d0748584b6c5",
   "metadata": {},
   "outputs": [
    {
     "name": "stdout",
     "output_type": "stream",
     "text": [
      "(16389, 10)\n",
      "(16389,)\n"
     ]
    }
   ],
   "source": [
    "print(x.shape)\n",
    "print(y.shape)"
   ]
  },
  {
   "cell_type": "markdown",
   "id": "df27e7be-4414-42f2-871d-5d1b42bb6cb7",
   "metadata": {},
   "source": [
    "**standardScaler**"
   ]
  },
  {
   "cell_type": "code",
   "execution_count": 19,
   "id": "11912c87-ddb0-437f-b94e-d31f683f28b1",
   "metadata": {},
   "outputs": [
    {
     "data": {
      "text/html": [
       "<div>\n",
       "<style scoped>\n",
       "    .dataframe tbody tr th:only-of-type {\n",
       "        vertical-align: middle;\n",
       "    }\n",
       "\n",
       "    .dataframe tbody tr th {\n",
       "        vertical-align: top;\n",
       "    }\n",
       "\n",
       "    .dataframe thead th {\n",
       "        text-align: right;\n",
       "    }\n",
       "</style>\n",
       "<table border=\"1\" class=\"dataframe\">\n",
       "  <thead>\n",
       "    <tr style=\"text-align: right;\">\n",
       "      <th></th>\n",
       "      <th>Age of the patient</th>\n",
       "      <th>Gender of the patient</th>\n",
       "      <th>Total Bilirubin</th>\n",
       "      <th>Direct Bilirubin</th>\n",
       "      <th>Alkphos Alkaline Phosphotase</th>\n",
       "      <th>Sgpt Alamine Aminotransferase</th>\n",
       "      <th>Sgot Aspartate Aminotransferase</th>\n",
       "      <th>Total Protiens</th>\n",
       "      <th>ALB Albumin</th>\n",
       "      <th>A/G Ratio Albumin and Globulin Ratio</th>\n",
       "    </tr>\n",
       "  </thead>\n",
       "  <tbody>\n",
       "    <tr>\n",
       "      <th>0</th>\n",
       "      <td>1.284379</td>\n",
       "      <td>-1.514685</td>\n",
       "      <td>-0.428513</td>\n",
       "      <td>-0.494194</td>\n",
       "      <td>-0.430926</td>\n",
       "      <td>-0.356365</td>\n",
       "      <td>-0.332674</td>\n",
       "      <td>0.286374</td>\n",
       "      <td>0.205832</td>\n",
       "      <td>-0.144163</td>\n",
       "    </tr>\n",
       "    <tr>\n",
       "      <th>1</th>\n",
       "      <td>1.102880</td>\n",
       "      <td>0.660203</td>\n",
       "      <td>1.214391</td>\n",
       "      <td>1.371433</td>\n",
       "      <td>1.694096</td>\n",
       "      <td>-0.089705</td>\n",
       "      <td>-0.040503</td>\n",
       "      <td>0.928272</td>\n",
       "      <td>0.079884</td>\n",
       "      <td>-0.639018</td>\n",
       "    </tr>\n",
       "    <tr>\n",
       "      <th>2</th>\n",
       "      <td>1.102880</td>\n",
       "      <td>0.660203</td>\n",
       "      <td>0.634543</td>\n",
       "      <td>0.887752</td>\n",
       "      <td>0.826655</td>\n",
       "      <td>-0.111926</td>\n",
       "      <td>-0.154521</td>\n",
       "      <td>0.469773</td>\n",
       "      <td>0.205832</td>\n",
       "      <td>-0.175091</td>\n",
       "    </tr>\n",
       "    <tr>\n",
       "      <th>3</th>\n",
       "      <td>0.860881</td>\n",
       "      <td>0.660203</td>\n",
       "      <td>-0.380192</td>\n",
       "      <td>-0.390548</td>\n",
       "      <td>-0.451679</td>\n",
       "      <td>-0.367475</td>\n",
       "      <td>-0.325548</td>\n",
       "      <td>0.286374</td>\n",
       "      <td>0.331779</td>\n",
       "      <td>0.165122</td>\n",
       "    </tr>\n",
       "    <tr>\n",
       "      <th>4</th>\n",
       "      <td>1.707878</td>\n",
       "      <td>0.660203</td>\n",
       "      <td>0.086908</td>\n",
       "      <td>0.162230</td>\n",
       "      <td>-0.397723</td>\n",
       "      <td>-0.295255</td>\n",
       "      <td>-0.186589</td>\n",
       "      <td>0.744872</td>\n",
       "      <td>-0.927696</td>\n",
       "      <td>-1.690585</td>\n",
       "    </tr>\n",
       "  </tbody>\n",
       "</table>\n",
       "</div>"
      ],
      "text/plain": [
       "   Age of the patient  Gender of the patient  Total Bilirubin  \\\n",
       "0            1.284379              -1.514685        -0.428513   \n",
       "1            1.102880               0.660203         1.214391   \n",
       "2            1.102880               0.660203         0.634543   \n",
       "3            0.860881               0.660203        -0.380192   \n",
       "4            1.707878               0.660203         0.086908   \n",
       "\n",
       "   Direct Bilirubin  Alkphos Alkaline Phosphotase  \\\n",
       "0         -0.494194                     -0.430926   \n",
       "1          1.371433                      1.694096   \n",
       "2          0.887752                      0.826655   \n",
       "3         -0.390548                     -0.451679   \n",
       "4          0.162230                     -0.397723   \n",
       "\n",
       "   Sgpt Alamine Aminotransferase  Sgot Aspartate Aminotransferase  \\\n",
       "0                      -0.356365                        -0.332674   \n",
       "1                      -0.089705                        -0.040503   \n",
       "2                      -0.111926                        -0.154521   \n",
       "3                      -0.367475                        -0.325548   \n",
       "4                      -0.295255                        -0.186589   \n",
       "\n",
       "   Total Protiens  ALB Albumin  A/G Ratio Albumin and Globulin Ratio  \n",
       "0        0.286374     0.205832                             -0.144163  \n",
       "1        0.928272     0.079884                             -0.639018  \n",
       "2        0.469773     0.205832                             -0.175091  \n",
       "3        0.286374     0.331779                              0.165122  \n",
       "4        0.744872    -0.927696                             -1.690585  "
      ]
     },
     "execution_count": 19,
     "metadata": {},
     "output_type": "execute_result"
    }
   ],
   "source": [
    "standardScaler = StandardScaler()\n",
    "X = standardScaler.fit_transform(x)\n",
    "\n",
    "df = pd.DataFrame(X, columns = x.columns)\n",
    "df.head()"
   ]
  },
  {
   "cell_type": "markdown",
   "id": "633ae6e4-870e-4284-88da-4c8e6386faa1",
   "metadata": {},
   "source": [
    "# **Dataset spliting**"
   ]
  },
  {
   "cell_type": "code",
   "execution_count": 20,
   "id": "31938d01-651d-4684-ae84-f2dbcc3c4af1",
   "metadata": {},
   "outputs": [],
   "source": [
    "X_train, X_test, y_train, y_test = train_test_split(X, y, test_size=0.33, random_state=42)"
   ]
  },
  {
   "cell_type": "code",
   "execution_count": 21,
   "id": "db6cd737-189f-4f38-8071-a576c0f25bc3",
   "metadata": {},
   "outputs": [
    {
     "name": "stdout",
     "output_type": "stream",
     "text": [
      "(10980, 10)\n",
      "(5409, 10)\n",
      "(10980,)\n",
      "(5409,)\n"
     ]
    }
   ],
   "source": [
    "print(X_train.shape)\n",
    "print(X_test.shape)\n",
    "print(y_train.shape)\n",
    "print(y_test.shape)"
   ]
  },
  {
   "cell_type": "markdown",
   "id": "b99df549-f679-405a-a696-4f7047286cdb",
   "metadata": {},
   "source": [
    "# **Modeling With Hyperparameter Tuning**"
   ]
  },
  {
   "cell_type": "markdown",
   "id": "3def67f4-314b-40d4-afa4-1655149ded20",
   "metadata": {},
   "source": [
    "# **KNN**"
   ]
  },
  {
   "cell_type": "code",
   "execution_count": 22,
   "id": "abe6a9d4-5775-46ca-bcc4-5719b151ecf5",
   "metadata": {},
   "outputs": [
    {
     "name": "stdout",
     "output_type": "stream",
     "text": [
      "Fitting 4 folds for each of 100 candidates, totalling 400 fits\n"
     ]
    },
    {
     "data": {
      "text/plain": [
       "{'weights': 'uniform',\n",
       " 'p': 1,\n",
       " 'n_neighbors': 1,\n",
       " 'leaf_size': 77,\n",
       " 'algorithm': 'brute'}"
      ]
     },
     "execution_count": 22,
     "metadata": {},
     "output_type": "execute_result"
    }
   ],
   "source": [
    "n_neighbors = [int(x) for x in np.linspace(start = 1, stop = len(X_train)/3, num = 5)]\n",
    "weights = ['uniform', 'distance']\n",
    "algorithm  = [\"auto\",\"ball_tree\",\"kd_tree\",\"brute\"]\n",
    "leaf_size  = [int(x) for x in np.linspace(10, 100, num = 5)]\n",
    "p  = [1,2]       \n",
    "\n",
    "random_grid = {'n_neighbors': n_neighbors,\n",
    "               'weights': weights,\n",
    "               'algorithm': algorithm,\n",
    "               'leaf_size': leaf_size,\n",
    "               'p': p}\n",
    "\n",
    "knn_clf = KNeighborsClassifier()\n",
    "knn_random = RandomizedSearchCV(estimator = knn_clf, param_distributions = random_grid, n_iter = 100, cv = 4, verbose=2,random_state=35, n_jobs = -1)\n",
    "knn_random.fit(X_train, y_train)\n",
    "\n",
    "knn_random.best_params_"
   ]
  },
  {
   "cell_type": "code",
   "execution_count": 23,
   "id": "12a3d80a-b2fc-4139-be33-18b337183042",
   "metadata": {},
   "outputs": [
    {
     "name": "stdout",
     "output_type": "stream",
     "text": [
      "Accuracy: 96.52431133296358\n",
      "[[3792   96]\n",
      " [  92 1429]]\n"
     ]
    },
    {
     "name": "stderr",
     "output_type": "stream",
     "text": [
      "C:\\Users\\PC\\anaconda3\\envs\\dLGPU\\lib\\site-packages\\sklearn\\utils\\deprecation.py:87: FutureWarning: Function plot_roc_curve is deprecated; Function :func:`plot_roc_curve` is deprecated in 1.0 and will be removed in 1.2. Use one of the class methods: :meth:`sklearn.metric.RocCurveDisplay.from_predictions` or :meth:`sklearn.metric.RocCurveDisplay.from_estimator`.\n",
      "  warnings.warn(msg, category=FutureWarning)\n"
     ]
    },
    {
     "name": "stdout",
     "output_type": "stream",
     "text": [
      "<sklearn.metrics._plot.roc_curve.RocCurveDisplay object at 0x000002A7917E0910>\n",
      "              precision    recall  f1-score   support\n",
      "\n",
      "           1       0.98      0.98      0.98      3888\n",
      "           2       0.94      0.94      0.94      1521\n",
      "\n",
      "    accuracy                           0.97      5409\n",
      "   macro avg       0.96      0.96      0.96      5409\n",
      "weighted avg       0.97      0.97      0.97      5409\n",
      "\n"
     ]
    },
    {
     "data": {
      "image/png": "[encoded data removed]",
      "text/plain": [
       "<Figure size 432x288 with 2 Axes>"
      ]
     },
     "metadata": {
      "needs_background": "light"
     },
     "output_type": "display_data"
    },
    {
     "data": {
      "image/png": "[encoded data removed]",
      "text/plain": [
       "<Figure size 432x288 with 1 Axes>"
      ]
     },
     "metadata": {
      "needs_background": "light"
     },
     "output_type": "display_data"
    }
   ],
   "source": [
    "knn = KNeighborsClassifier(algorithm = 'brute',\n",
    " leaf_size = 77,\n",
    " n_neighbors = 1,\n",
    " p = 1,\n",
    " weights ='uniform')\n",
    "\n",
    "knn.fit(X_train,y_train)\n",
    "\n",
    "predKNN = knn.predict(X_test)\n",
    "accuracyKNN= knn.score(X_test,y_test)*100\n",
    "print(\"Accuracy:\",accuracyKNN)\n",
    "\n",
    "cmKNN = confusion_matrix(y_test, predKNN)\n",
    "print(cmKNN)\n",
    "\n",
    "sns.heatmap(cmKNN, annot=True, fmt='d')\n",
    "plt.xlabel(\"Predicted\")\n",
    "plt.ylabel(\"Actual\")\n",
    "plt.title(\"Confusion Matrix\")\n",
    "\n",
    "roc = plot_roc_curve(knn, X_test, y_test)\n",
    "print(roc)\n",
    "plt.plot([0,1],[0,1])\n",
    "\n",
    "print(classification_report(y_test,predKNN))"
   ]
  },
  {
   "cell_type": "code",
   "execution_count": 37,
   "id": "dea052e4",
   "metadata": {},
   "outputs": [
    {
     "name": "stdout",
     "output_type": "stream",
     "text": [
      "R Squared = 0.8280431977013174\n",
      "MAE = 0.03475688667036421\n",
      "MSE = 0.03475688667036421\n"
     ]
    }
   ],
   "source": [
    "print ('R Squared =',r2_score(y_test, predKNN))\n",
    "print ('MAE =',mean_absolute_error(y_test, predKNN))\n",
    "print ('MSE =',mean_squared_error(y_test, predKNN))"
   ]
  },
  {
   "cell_type": "markdown",
   "id": "8771fd01-8002-4a66-9e36-2c84f6c0ae09",
   "metadata": {},
   "source": [
    "# **Random Forest**"
   ]
  },
  {
   "cell_type": "code",
   "execution_count": 47,
   "id": "29f13568-0a97-413d-b19e-d1ac4c8b1f67",
   "metadata": {},
   "outputs": [
    {
     "name": "stdout",
     "output_type": "stream",
     "text": [
      "Fitting 5 folds for each of 100 candidates, totalling 500 fits\n"
     ]
    },
    {
     "data": {
      "text/plain": [
       "{'n_estimators': 4400,\n",
       " 'min_samples_split': 12,\n",
       " 'min_samples_leaf': 8,\n",
       " 'max_features': 'sqrt',\n",
       " 'max_depth': 4242,\n",
       " 'criterion': 'gini'}"
      ]
     },
     "execution_count": 47,
     "metadata": {},
     "output_type": "execute_result"
    }
   ],
   "source": [
    "n_estimators = [int(x) for x in np.linspace(start = 200, stop= 5000, num = 25)]\n",
    "max_features = ['auto','sqrt','log2']\n",
    "max_depth = [int(x) for x in np.linspace(start = 200, stop= 5000, num = 20)]\n",
    "min_samples_split = [5,10,12,15,20,50,100]\n",
    "min_samples_leaf = [6,8,10,15,20,50,100]\n",
    "#creat ids\n",
    "grids ={\n",
    "    'n_estimators' : n_estimators,\n",
    "    'max_features' : max_features,\n",
    "    'max_depth' : max_depth,\n",
    "    'min_samples_split' : min_samples_split,\n",
    "    'min_samples_leaf' : min_samples_leaf,\n",
    "    'criterion':['gini', 'entropy']\n",
    "}\n",
    "rf=RandomForestClassifier()\n",
    "\n",
    "rf_random = RandomizedSearchCV(estimator = rf, param_distributions = grids,\n",
    "               n_iter = 100, cv = 5, verbose=2, random_state=35, n_jobs = -1)\n",
    "\n",
    "rf_random.fit(X_train, y_train)\n",
    "\n",
    "rf_random.best_params_"
   ]
  },
  {
   "cell_type": "code",
   "execution_count": 48,
   "id": "acf1d3f9-7b90-48f3-a5c0-3a07c7c944f6",
   "metadata": {},
   "outputs": [
    {
     "name": "stdout",
     "output_type": "stream",
     "text": [
      "AccuracyRF: 99.98151229432428\n",
      "[[3887    1]\n",
      " [   0 1521]]\n"
     ]
    },
    {
     "name": "stderr",
     "output_type": "stream",
     "text": [
      "C:\\Users\\PC\\anaconda3\\envs\\dLGPU\\lib\\site-packages\\sklearn\\utils\\deprecation.py:87: FutureWarning: Function plot_roc_curve is deprecated; Function :func:`plot_roc_curve` is deprecated in 1.0 and will be removed in 1.2. Use one of the class methods: :meth:`sklearn.metric.RocCurveDisplay.from_predictions` or :meth:`sklearn.metric.RocCurveDisplay.from_estimator`.\n",
      "  warnings.warn(msg, category=FutureWarning)\n"
     ]
    },
    {
     "name": "stdout",
     "output_type": "stream",
     "text": [
      "<sklearn.metrics._plot.roc_curve.RocCurveDisplay object at 0x000002A7A73ED970>\n",
      "              precision    recall  f1-score   support\n",
      "\n",
      "           1       1.00      1.00      1.00      3888\n",
      "           2       1.00      1.00      1.00      1521\n",
      "\n",
      "    accuracy                           1.00      5409\n",
      "   macro avg       1.00      1.00      1.00      5409\n",
      "weighted avg       1.00      1.00      1.00      5409\n",
      "\n"
     ]
    },
    {
     "data": {
      "image/png": "[encoded data removed]",
      "text/plain": [
       "<Figure size 432x288 with 2 Axes>"
      ]
     },
     "metadata": {
      "needs_background": "light"
     },
     "output_type": "display_data"
    },
    {
     "data": {
      "image/png": "[encoded data removed]",
      "text/plain": [
       "<Figure size 432x288 with 1 Axes>"
      ]
     },
     "metadata": {
      "needs_background": "light"
     },
     "output_type": "display_data"
    }
   ],
   "source": [
    "rf = RandomForestClassifier(n_estimators = 4400, min_samples_split = 12,\n",
    " min_samples_leaf = 8,\n",
    " max_features ='sqrt',\n",
    " max_depth= 4242,\n",
    " criterion='gini')\n",
    "\n",
    "rf.fit(X_train, y_train)\n",
    "\n",
    "ypredRF = rf.predict(X_test)\n",
    "accuracyRF= rf.score(X_test,y_test)*100\n",
    "print(\"AccuracyRF:\",accuracyRF)\n",
    "\n",
    "cmRF = confusion_matrix(y_test, ypredRF)\n",
    "print(cmRF)\n",
    "\n",
    "sns.heatmap(cmRF, annot=True, fmt='d')\n",
    "plt.xlabel(\"Predicted\")\n",
    "plt.ylabel(\"Actual\")\n",
    "plt.title(\"Confusion Matrix\")\n",
    "\n",
    "roc = plot_roc_curve(rf, X_test, y_test)\n",
    "print(roc)\n",
    "plt.plot([0,1],[0,1])\n",
    "\n",
    "print(classification_report(y_test,ypredRF))"
   ]
  },
  {
   "cell_type": "code",
   "execution_count": 49,
   "id": "163b6958",
   "metadata": {},
   "outputs": [
    {
     "name": "stdout",
     "output_type": "stream",
     "text": [
      "R Squared = 0.9990853361579858\n",
      "MAE = 0.00018487705675725643\n",
      "MSE = 0.00018487705675725643\n"
     ]
    }
   ],
   "source": [
    "print ('R Squared =',r2_score(y_test, ypredRF))\n",
    "print ('MAE =',mean_absolute_error(y_test, ypredRF))\n",
    "print ('MSE =',mean_squared_error(y_test, ypredRF))"
   ]
  },
  {
   "cell_type": "markdown",
   "id": "97b873bd-b9b4-4fc3-b195-442a3cae2f04",
   "metadata": {},
   "source": [
    "# **SVM**"
   ]
  },
  {
   "cell_type": "code",
   "execution_count": 24,
   "id": "623fb3c6-37fb-4a14-9612-aa4928283294",
   "metadata": {},
   "outputs": [
    {
     "name": "stdout",
     "output_type": "stream",
     "text": [
      "Requirement already satisfied: scipy in c:\\users\\pc\\anaconda3\\envs\\dlgpu\\lib\\site-packages (1.7.3)\n",
      "Requirement already satisfied: numpy<1.23.0,>=1.16.5 in c:\\users\\pc\\anaconda3\\envs\\dlgpu\\lib\\site-packages (from scipy) (1.22.3)\n",
      "Note: you may need to restart the kernel to use updated packages.\n"
     ]
    }
   ],
   "source": [
    "pip install scipy\n"
   ]
  },
  {
   "cell_type": "code",
   "execution_count": 25,
   "id": "10a08147-5314-45ad-87fc-479eddc878c6",
   "metadata": {},
   "outputs": [
    {
     "name": "stdout",
     "output_type": "stream",
     "text": [
      "Requirement already satisfied: stats in c:\\users\\pc\\anaconda3\\envs\\dlgpu\\lib\\site-packages (0.1.2a0)\n",
      "Note: you may need to restart the kernel to use updated packages.\n"
     ]
    }
   ],
   "source": [
    "pip install stats"
   ]
  },
  {
   "cell_type": "code",
   "execution_count": 26,
   "id": "f6d3d1a5-f4e7-4987-b445-42e04339919e",
   "metadata": {},
   "outputs": [
    {
     "data": {
      "text/plain": [
       "{'C': 6.028803313791421,\n",
       " 'class_weight': None,\n",
       " 'gamma': 0.9745325095997327,\n",
       " 'kernel': 'rbf'}"
      ]
     },
     "execution_count": 26,
     "metadata": {},
     "output_type": "execute_result"
    }
   ],
   "source": [
    "from scipy import stats\n",
    "from scipy.stats import randint\n",
    "\n",
    "param_grid= param_grid= {\n",
    "            \"C\": stats.uniform(2, 10),\n",
    "            \"gamma\": stats.uniform(0.1, 1),\n",
    "            \"kernel\": ['rbf', 'linear', 'poly'], \n",
    "            \"class_weight\" :['balanced', None]\n",
    "}\n",
    "\n",
    "svm = SVC()\n",
    "svm_random = RandomizedSearchCV(estimator = svm, param_distributions = param_grid, n_iter = 100, n_jobs = 4, cv = 3, random_state = 100)\n",
    "svm_random.fit(X_train, y_train)\n",
    "\n",
    "svm_random.best_params_"
   ]
  },
  {
   "cell_type": "code",
   "execution_count": 27,
   "id": "aea2f9a8-9055-4454-823c-0bc1ef93f923",
   "metadata": {},
   "outputs": [
    {
     "name": "stdout",
     "output_type": "stream",
     "text": [
      "Accuracy SVM: 86.46699944536883\n",
      "[[3644  244]\n",
      " [ 488 1033]]\n"
     ]
    },
    {
     "name": "stderr",
     "output_type": "stream",
     "text": [
      "C:\\Users\\PC\\anaconda3\\envs\\dLGPU\\lib\\site-packages\\sklearn\\utils\\deprecation.py:87: FutureWarning: Function plot_roc_curve is deprecated; Function :func:`plot_roc_curve` is deprecated in 1.0 and will be removed in 1.2. Use one of the class methods: :meth:`sklearn.metric.RocCurveDisplay.from_predictions` or :meth:`sklearn.metric.RocCurveDisplay.from_estimator`.\n",
      "  warnings.warn(msg, category=FutureWarning)\n"
     ]
    },
    {
     "name": "stdout",
     "output_type": "stream",
     "text": [
      "<sklearn.metrics._plot.roc_curve.RocCurveDisplay object at 0x000002A7930F76A0>\n",
      "              precision    recall  f1-score   support\n",
      "\n",
      "           1       0.88      0.94      0.91      3888\n",
      "           2       0.81      0.68      0.74      1521\n",
      "\n",
      "    accuracy                           0.86      5409\n",
      "   macro avg       0.85      0.81      0.82      5409\n",
      "weighted avg       0.86      0.86      0.86      5409\n",
      "\n"
     ]
    },
    {
     "data": {
      "image/png": "[encoded data removed]",
      "text/plain": [
       "<Figure size 432x288 with 2 Axes>"
      ]
     },
     "metadata": {
      "needs_background": "light"
     },
     "output_type": "display_data"
    },
    {
     "data": {
      "image/png": "[encoded data removed]",
      "text/plain": [
       "<Figure size 432x288 with 1 Axes>"
      ]
     },
     "metadata": {
      "needs_background": "light"
     },
     "output_type": "display_data"
    }
   ],
   "source": [
    "svm = SVC(C = 6.028803313791421, class_weight = None, gamma = 0.9745325095997327, kernel = 'rbf')\n",
    "\n",
    "svm.fit(X_train,y_train)\n",
    "\n",
    "predSVM = svm.predict(X_test)\n",
    "accuracy = svm.score(X_test,y_test)*100\n",
    "print(\"Accuracy SVM:\",accuracy)\n",
    "\n",
    "cmSVM = confusion_matrix(y_test, predSVM)\n",
    "print(cmSVM)\n",
    "\n",
    "sns.heatmap(cmSVM, annot=True, fmt='d')\n",
    "plt.xlabel(\"Predicted\")\n",
    "plt.ylabel(\"Actual\")\n",
    "plt.title(\"Confusion Matrix\")\n",
    "\n",
    "roc = plot_roc_curve(svm, X_test, y_test)\n",
    "print(roc)\n",
    "plt.plot([0,1],[0,1])\n",
    "\n",
    "print(classification_report(y_test,predSVM))"
   ]
  },
  {
   "cell_type": "code",
   "execution_count": 39,
   "id": "330a3cd7",
   "metadata": {},
   "outputs": [
    {
     "name": "stdout",
     "output_type": "stream",
     "text": [
      "R Squared = 0.33046606764555486\n",
      "MAE = 0.1353300055463117\n",
      "MSE = 0.1353300055463117\n"
     ]
    }
   ],
   "source": [
    "print ('R Squared =',r2_score(y_test, predSVM))\n",
    "print ('MAE =',mean_absolute_error(y_test, predSVM))\n",
    "print ('MSE =',mean_squared_error(y_test, predSVM))"
   ]
  },
  {
   "cell_type": "markdown",
   "id": "2dc5f972",
   "metadata": {},
   "source": [
    "# Decision Tree"
   ]
  },
  {
   "cell_type": "code",
   "execution_count": 28,
   "id": "4e4ac2b6",
   "metadata": {},
   "outputs": [
    {
     "name": "stdout",
     "output_type": "stream",
     "text": [
      "Fitting 5 folds for each of 200 candidates, totalling 1000 fits\n"
     ]
    },
    {
     "data": {
      "text/plain": [
       "{'splitter': 'best',\n",
       " 'min_samples_split': 50,\n",
       " 'min_samples_leaf': 5,\n",
       " 'max_depth': 10000,\n",
       " 'criterion': 'gini'}"
      ]
     },
     "execution_count": 28,
     "metadata": {},
     "output_type": "execute_result"
    }
   ],
   "source": [
    "max_depth = [int(x) for x in np.linspace(start = 500, stop= 10000, num = 10)]\n",
    "params = {\n",
    "    'max_depth': max_depth,\n",
    "    'min_samples_leaf': [5, 10, 20, 50, 100],\n",
    "    'criterion': [\"gini\", \"entropy\"],\n",
    "    'splitter' : ['best','random'],\n",
    "    'min_samples_split': [50,100,500,1000,1200,1500]\n",
    "}\n",
    "\n",
    "dt = DecisionTreeClassifier()\n",
    "dt_random = RandomizedSearchCV(estimator = dt, param_distributions = params,\n",
    "               n_iter = 200, cv = 5, verbose=2, random_state=35, n_jobs = -1)\n",
    "\n",
    "\n",
    "dt_random.fit(X_train, y_train)\n",
    "\n",
    "dt_random.best_params_"
   ]
  },
  {
   "cell_type": "code",
   "execution_count": 29,
   "id": "4359b8b1",
   "metadata": {},
   "outputs": [
    {
     "name": "stdout",
     "output_type": "stream",
     "text": [
      "Accuracy DT: 97.65206137918284\n",
      "[[3828   60]\n",
      " [  67 1454]]\n",
      "<sklearn.metrics._plot.roc_curve.RocCurveDisplay object at 0x000002A7916410D0>\n",
      "              precision    recall  f1-score   support\n",
      "\n",
      "           1       0.98      0.98      0.98      3888\n",
      "           2       0.96      0.96      0.96      1521\n",
      "\n",
      "    accuracy                           0.98      5409\n",
      "   macro avg       0.97      0.97      0.97      5409\n",
      "weighted avg       0.98      0.98      0.98      5409\n",
      "\n"
     ]
    },
    {
     "name": "stderr",
     "output_type": "stream",
     "text": [
      "C:\\Users\\PC\\anaconda3\\envs\\dLGPU\\lib\\site-packages\\sklearn\\utils\\deprecation.py:87: FutureWarning: Function plot_roc_curve is deprecated; Function :func:`plot_roc_curve` is deprecated in 1.0 and will be removed in 1.2. Use one of the class methods: :meth:`sklearn.metric.RocCurveDisplay.from_predictions` or :meth:`sklearn.metric.RocCurveDisplay.from_estimator`.\n",
      "  warnings.warn(msg, category=FutureWarning)\n"
     ]
    },
    {
     "data": {
      "image/png": "[encoded data removed]",
      "text/plain": [
       "<Figure size 432x288 with 2 Axes>"
      ]
     },
     "metadata": {
      "needs_background": "light"
     },
     "output_type": "display_data"
    },
    {
     "data": {
      "image/png": "[encoded data removed]",
      "text/plain": [
       "<Figure size 432x288 with 1 Axes>"
      ]
     },
     "metadata": {
      "needs_background": "light"
     },
     "output_type": "display_data"
    }
   ],
   "source": [
    "dt = DecisionTreeClassifier(splitter = 'best', min_samples_split = 50, \n",
    "                            max_depth = 10000,  min_samples_leaf = 5, criterion = 'gini')\n",
    "dt.fit(X_train, y_train)\n",
    "\n",
    "PredDT = dt.predict(X_test)\n",
    "accuracy = dt.score(X_test, y_test)*100\n",
    "print(\"Accuracy DT:\",accuracy)\n",
    "\n",
    "cmDT = confusion_matrix(y_test, PredDT)\n",
    "print(cmDT)\n",
    "\n",
    "\n",
    "sns.heatmap(cmDT, annot=True, fmt='d')\n",
    "plt.xlabel(\"Predicted\")\n",
    "plt.ylabel(\"Actual\")\n",
    "plt.title(\"Confusion Matrix\")\n",
    "\n",
    "roc = plot_roc_curve(dt, X_test, y_test)\n",
    "print(roc)\n",
    "plt.plot([0,1],[0,1])\n",
    "\n",
    "print(classification_report(y_test,PredDT))"
   ]
  },
  {
   "cell_type": "code",
   "execution_count": 40,
   "id": "006b3ed7",
   "metadata": {},
   "outputs": [
    {
     "name": "stdout",
     "output_type": "stream",
     "text": [
      "R Squared = 0.8838376920641878\n",
      "MAE = 0.023479386208171565\n",
      "MSE = 0.023479386208171565\n"
     ]
    }
   ],
   "source": [
    "print ('R Squared =',r2_score(y_test, PredDT))\n",
    "print ('MAE =',mean_absolute_error(y_test, PredDT))\n",
    "print ('MSE =',mean_squared_error(y_test, PredDT))"
   ]
  },
  {
   "cell_type": "markdown",
   "id": "d1a227b3",
   "metadata": {},
   "source": [
    "# XGBoost"
   ]
  },
  {
   "cell_type": "code",
   "execution_count": 30,
   "id": "35f27dc3",
   "metadata": {},
   "outputs": [
    {
     "name": "stdout",
     "output_type": "stream",
     "text": [
      "Fitting 5 folds for each of 25 candidates, totalling 125 fits\n"
     ]
    },
    {
     "name": "stderr",
     "output_type": "stream",
     "text": [
      "C:\\Users\\PC\\anaconda3\\envs\\dLGPU\\lib\\site-packages\\xgboost\\sklearn.py:1224: UserWarning: The use of label encoder in XGBClassifier is deprecated and will be removed in a future release. To remove this warning, do the following: 1) Pass option use_label_encoder=False when constructing XGBClassifier object; and 2) Encode your labels (y) as integers starting with 0, i.e. 0, 1, 2, ..., [num_class - 1].\n",
      "  warnings.warn(label_encoder_deprecation_msg, UserWarning)\n"
     ]
    },
    {
     "name": "stdout",
     "output_type": "stream",
     "text": [
      "[22:21:52] WARNING: C:/Users/Administrator/workspace/xgboost-win64_release_1.5.1/src/learner.cc:576: \n",
      "Parameters: { \"silent\" } might not be used.\n",
      "\n",
      "  This could be a false alarm, with some parameters getting used by language bindings but\n",
      "  then being mistakenly passed down to XGBoost core, or some parameter actually being used\n",
      "  but getting flagged wrongly here. Please open an issue if you find any such cases.\n",
      "\n",
      "\n",
      "[22:21:52] WARNING: C:/Users/Administrator/workspace/xgboost-win64_release_1.5.1/src/learner.cc:1115: Starting in XGBoost 1.3.0, the default evaluation metric used with the objective 'binary:logistic' was changed from 'error' to 'logloss'. Explicitly set eval_metric if you'd like to restore the old behavior.\n"
     ]
    },
    {
     "data": {
      "text/plain": [
       "{'subsample': 0.9,\n",
       " 'silent': False,\n",
       " 'reg_lambda': 0.1,\n",
       " 'n_estimators': 8366,\n",
       " 'min_child_weight': 3.0,\n",
       " 'max_depth': 10,\n",
       " 'learning_rate': 0.2,\n",
       " 'gamma': 0.25,\n",
       " 'colsample_bytree': 0.6,\n",
       " 'colsample_bylevel': 0.6}"
      ]
     },
     "execution_count": 30,
     "metadata": {},
     "output_type": "execute_result"
    }
   ],
   "source": [
    "param_grid_xg = {\n",
    "        'silent': [False],\n",
    "        'max_depth': [6, 10, 15, 20],\n",
    "        'learning_rate': [0.001, 0.01, 0.1, 0.2, 0,3],\n",
    "        'subsample': [0.5, 0.6, 0.7, 0.8, 0.9, 1.0],\n",
    "        'colsample_bytree': [0.4, 0.5, 0.6, 0.7, 0.8, 0.9, 1.0],\n",
    "        'colsample_bylevel': [0.4, 0.5, 0.6, 0.7, 0.8, 0.9, 1.0],\n",
    "        'min_child_weight': [0.5, 1.0, 3.0, 5.0, 7.0, 10.0],\n",
    "        'gamma': [0, 0.25, 0.5, 1.0],\n",
    "        'reg_lambda': [0.1, 1.0, 5.0, 10.0, 50.0, 100.0],\n",
    "        'n_estimators': [int(x) for x in np.linspace(start = 200, stop= 10000, num = 25)]\n",
    "}\n",
    "\n",
    "xgb = XGBClassifier()\n",
    "\n",
    "xgb_random = RandomizedSearchCV(estimator=xgb, param_distributions = param_grid_xg, n_iter = 25, scoring = 'roc_auc', error_score = 0, verbose = 3, n_jobs = -1)\n",
    "\n",
    "xgb_random.fit(X_train, y_train)\n",
    "\n",
    "best_parameters = xgb_random.best_params_\n",
    "best_parameters"
   ]
  },
  {
   "cell_type": "code",
   "execution_count": 31,
   "id": "7c323e15",
   "metadata": {},
   "outputs": [
    {
     "name": "stdout",
     "output_type": "stream",
     "text": [
      "[22:39:11] WARNING: C:/Users/Administrator/workspace/xgboost-win64_release_1.5.1/src/learner.cc:576: \n",
      "Parameters: { \"silent\" } might not be used.\n",
      "\n",
      "  This could be a false alarm, with some parameters getting used by language bindings but\n",
      "  then being mistakenly passed down to XGBoost core, or some parameter actually being used\n",
      "  but getting flagged wrongly here. Please open an issue if you find any such cases.\n",
      "\n",
      "\n",
      "[22:39:11] WARNING: C:/Users/Administrator/workspace/xgboost-win64_release_1.5.1/src/learner.cc:1115: Starting in XGBoost 1.3.0, the default evaluation metric used with the objective 'binary:logistic' was changed from 'error' to 'logloss'. Explicitly set eval_metric if you'd like to restore the old behavior.\n",
      "Accurac XGB: 100.0\n",
      "[[3888    0]\n",
      " [   0 1521]]\n",
      "<sklearn.metrics._plot.roc_curve.RocCurveDisplay object at 0x000002A792D400A0>\n",
      "              precision    recall  f1-score   support\n",
      "\n",
      "           1       1.00      1.00      1.00      3888\n",
      "           2       1.00      1.00      1.00      1521\n",
      "\n",
      "    accuracy                           1.00      5409\n",
      "   macro avg       1.00      1.00      1.00      5409\n",
      "weighted avg       1.00      1.00      1.00      5409\n",
      "\n"
     ]
    },
    {
     "name": "stderr",
     "output_type": "stream",
     "text": [
      "C:\\Users\\PC\\anaconda3\\envs\\dLGPU\\lib\\site-packages\\sklearn\\utils\\deprecation.py:87: FutureWarning: Function plot_roc_curve is deprecated; Function :func:`plot_roc_curve` is deprecated in 1.0 and will be removed in 1.2. Use one of the class methods: :meth:`sklearn.metric.RocCurveDisplay.from_predictions` or :meth:`sklearn.metric.RocCurveDisplay.from_estimator`.\n",
      "  warnings.warn(msg, category=FutureWarning)\n"
     ]
    },
    {
     "data": {
      "image/png": "[encoded data removed]",
      "text/plain": [
       "<Figure size 432x288 with 2 Axes>"
      ]
     },
     "metadata": {
      "needs_background": "light"
     },
     "output_type": "display_data"
    },
    {
     "data": {
      "image/png": "[encoded data removed]",
      "text/plain": [
       "<Figure size 432x288 with 1 Axes>"
      ]
     },
     "metadata": {
      "needs_background": "light"
     },
     "output_type": "display_data"
    }
   ],
   "source": [
    "xgb = XGBClassifier(\n",
    "      colsample_bylevel = 0.6,\n",
    "      colsample_bytree=0.6,\n",
    "      gamma = 0.25,\n",
    "      learning_rate = 0.2,\n",
    "      max_depth = 10,\n",
    "      min_child_weight = 3.0,\n",
    "      n_estimators = 8366,\n",
    "      reg_lambda = 0.1,\n",
    "      silent=False,\n",
    "      subsample = .9)\n",
    "\n",
    "xgb.fit(X_train,y_train)\n",
    "predXG = xgb.predict(X_test)\n",
    "\n",
    "accuracyXg= xgb.score(X_test,y_test)*100\n",
    "print('Accurac XGB:',accuracyXg)\n",
    "\n",
    "cmXGB = confusion_matrix(y_test, predXG)\n",
    "print(cmXGB)\n",
    "\n",
    "sns.heatmap(cmXGB, annot=True, fmt='d')\n",
    "plt.xlabel(\"Predicted\")\n",
    "plt.ylabel(\"Actual\")\n",
    "plt.title(\"Confusion Matrix\")\n",
    "\n",
    "roc = plot_roc_curve(xgb, X_test, y_test)\n",
    "print(roc)\n",
    "plt.plot([0,1],[0,1])\n",
    "\n",
    "print(classification_report(y_test,predXG))"
   ]
  },
  {
   "cell_type": "code",
   "execution_count": 36,
   "id": "322a73ed",
   "metadata": {},
   "outputs": [
    {
     "name": "stdout",
     "output_type": "stream",
     "text": [
      "R Squared = 1.0\n",
      "MAE = 0.0\n",
      "MSE = 0.0\n"
     ]
    }
   ],
   "source": [
    "print ('R Squared =',r2_score(y_test, predXG))\n",
    "print ('MAE =',mean_absolute_error(y_test, predXG))\n",
    "print ('MSE =',mean_squared_error(y_test, predXG))"
   ]
  },
  {
   "cell_type": "markdown",
   "id": "5308b911",
   "metadata": {},
   "source": [
    "# Logistic Regression"
   ]
  },
  {
   "cell_type": "code",
   "execution_count": 41,
   "id": "f0ac095a",
   "metadata": {},
   "outputs": [
    {
     "name": "stdout",
     "output_type": "stream",
     "text": [
      "Fitting 5 folds for each of 25 candidates, totalling 125 fits\n"
     ]
    },
    {
     "name": "stderr",
     "output_type": "stream",
     "text": [
      "C:\\Users\\PC\\anaconda3\\envs\\dLGPU\\lib\\site-packages\\sklearn\\model_selection\\_validation.py:372: FitFailedWarning: \n",
      "50 fits failed out of a total of 125.\n",
      "The score on these train-test partitions for these parameters will be set to 0.\n",
      "If these failures are not expected, you can try to debug them by setting error_score='raise'.\n",
      "\n",
      "Below are more details about the failures:\n",
      "--------------------------------------------------------------------------------\n",
      "20 fits failed with the following error:\n",
      "Traceback (most recent call last):\n",
      "  File \"C:\\Users\\PC\\anaconda3\\envs\\dLGPU\\lib\\site-packages\\sklearn\\model_selection\\_validation.py\", line 680, in _fit_and_score\n",
      "    estimator.fit(X_train, y_train, **fit_params)\n",
      "  File \"C:\\Users\\PC\\anaconda3\\envs\\dLGPU\\lib\\site-packages\\sklearn\\linear_model\\_logistic.py\", line 1461, in fit\n",
      "    solver = _check_solver(self.solver, self.penalty, self.dual)\n",
      "  File \"C:\\Users\\PC\\anaconda3\\envs\\dLGPU\\lib\\site-packages\\sklearn\\linear_model\\_logistic.py\", line 447, in _check_solver\n",
      "    raise ValueError(\n",
      "ValueError: Solver sag supports only 'l2' or 'none' penalties, got l1 penalty.\n",
      "\n",
      "--------------------------------------------------------------------------------\n",
      "15 fits failed with the following error:\n",
      "Traceback (most recent call last):\n",
      "  File \"C:\\Users\\PC\\anaconda3\\envs\\dLGPU\\lib\\site-packages\\sklearn\\model_selection\\_validation.py\", line 680, in _fit_and_score\n",
      "    estimator.fit(X_train, y_train, **fit_params)\n",
      "  File \"C:\\Users\\PC\\anaconda3\\envs\\dLGPU\\lib\\site-packages\\sklearn\\linear_model\\_logistic.py\", line 1461, in fit\n",
      "    solver = _check_solver(self.solver, self.penalty, self.dual)\n",
      "  File \"C:\\Users\\PC\\anaconda3\\envs\\dLGPU\\lib\\site-packages\\sklearn\\linear_model\\_logistic.py\", line 447, in _check_solver\n",
      "    raise ValueError(\n",
      "ValueError: Solver newton-cg supports only 'l2' or 'none' penalties, got l1 penalty.\n",
      "\n",
      "--------------------------------------------------------------------------------\n",
      "15 fits failed with the following error:\n",
      "Traceback (most recent call last):\n",
      "  File \"C:\\Users\\PC\\anaconda3\\envs\\dLGPU\\lib\\site-packages\\sklearn\\model_selection\\_validation.py\", line 680, in _fit_and_score\n",
      "    estimator.fit(X_train, y_train, **fit_params)\n",
      "  File \"C:\\Users\\PC\\anaconda3\\envs\\dLGPU\\lib\\site-packages\\sklearn\\linear_model\\_logistic.py\", line 1461, in fit\n",
      "    solver = _check_solver(self.solver, self.penalty, self.dual)\n",
      "  File \"C:\\Users\\PC\\anaconda3\\envs\\dLGPU\\lib\\site-packages\\sklearn\\linear_model\\_logistic.py\", line 447, in _check_solver\n",
      "    raise ValueError(\n",
      "ValueError: Solver lbfgs supports only 'l2' or 'none' penalties, got l1 penalty.\n",
      "\n",
      "  warnings.warn(some_fits_failed_message, FitFailedWarning)\n"
     ]
    },
    {
     "data": {
      "text/plain": [
       "{'tol': 0.01, 'solver': 'sag', 'penalty': 'l2', 'max_iter': 400, 'C': 1000}"
      ]
     },
     "execution_count": 41,
     "metadata": {},
     "output_type": "execute_result"
    }
   ],
   "source": [
    "LRparam_grid = {\n",
    "    'C': [0.001, 0.01, 0.1, 1, 10, 100, 1000],\n",
    "    'tol':[0.01, 0.001, 0.0001, 0.00001],\n",
    "    'penalty': ['l1', 'l2'],\n",
    "    'max_iter': list(range(100,800,100)),\n",
    "    'solver': ['newton-cg', 'lbfgs', 'liblinear', 'sag', 'saga']\n",
    "}\n",
    "\n",
    "lor = LogisticRegression()\n",
    "lor_random = RandomizedSearchCV(estimator=lor, param_distributions = LRparam_grid, n_iter = 25, scoring = 'roc_auc', error_score = 0, verbose = 3, n_jobs = -1)\n",
    "\n",
    "lor_random.fit(X_train, y_train)\n",
    "\n",
    "lor_random.best_params_"
   ]
  },
  {
   "cell_type": "code",
   "execution_count": 42,
   "id": "ea3a280d",
   "metadata": {},
   "outputs": [
    {
     "name": "stdout",
     "output_type": "stream",
     "text": [
      "Accuracy Lor: 72.8970234793862\n",
      "[[3647  241]\n",
      " [1225  296]]\n",
      "<sklearn.metrics._plot.roc_curve.RocCurveDisplay object at 0x000002A791818E80>\n",
      "              precision    recall  f1-score   support\n",
      "\n",
      "           1       0.75      0.94      0.83      3888\n",
      "           2       0.55      0.19      0.29      1521\n",
      "\n",
      "    accuracy                           0.73      5409\n",
      "   macro avg       0.65      0.57      0.56      5409\n",
      "weighted avg       0.69      0.73      0.68      5409\n",
      "\n"
     ]
    },
    {
     "name": "stderr",
     "output_type": "stream",
     "text": [
      "C:\\Users\\PC\\anaconda3\\envs\\dLGPU\\lib\\site-packages\\sklearn\\utils\\deprecation.py:87: FutureWarning: Function plot_roc_curve is deprecated; Function :func:`plot_roc_curve` is deprecated in 1.0 and will be removed in 1.2. Use one of the class methods: :meth:`sklearn.metric.RocCurveDisplay.from_predictions` or :meth:`sklearn.metric.RocCurveDisplay.from_estimator`.\n",
      "  warnings.warn(msg, category=FutureWarning)\n"
     ]
    },
    {
     "data": {
      "image/png": "[encoded data removed]",
      "text/plain": [
       "<Figure size 432x288 with 2 Axes>"
      ]
     },
     "metadata": {
      "needs_background": "light"
     },
     "output_type": "display_data"
    },
    {
     "data": {
      "image/png": "[encoded data removed]",
      "text/plain": [
       "<Figure size 432x288 with 1 Axes>"
      ]
     },
     "metadata": {
      "needs_background": "light"
     },
     "output_type": "display_data"
    }
   ],
   "source": [
    "lor = LogisticRegression(tol = 0.01, solver = 'sag', C = 1000, max_iter = 400, penalty =\"l2\")\n",
    "\n",
    "lor.fit(X_train,y_train)\n",
    "\n",
    "predLOR = lor.predict(X_test)\n",
    "accuracyLor = lor.score(X_test,y_test)*100\n",
    "print(\"Accuracy Lor:\",accuracyLor)\n",
    "\n",
    "cmLOR = confusion_matrix(y_test, predLOR)\n",
    "print(cmLOR)\n",
    "\n",
    "sns.heatmap(cmLOR, annot=True, fmt='d')\n",
    "plt.xlabel(\"Predicted\")\n",
    "plt.ylabel(\"Actual\")\n",
    "plt.title(\"Confusion Matrix\")\n",
    "\n",
    "roc = plot_roc_curve(lor, X_test, y_test)\n",
    "print(roc)\n",
    "plt.plot([0,1],[0,1])\n",
    "\n",
    "print(classification_report(y_test,predLOR))"
   ]
  },
  {
   "cell_type": "code",
   "execution_count": 43,
   "id": "3e542235",
   "metadata": {},
   "outputs": [
    {
     "name": "stdout",
     "output_type": "stream",
     "text": [
      "R Squared = -0.34089719239291894\n",
      "MAE = 0.2710297652061379\n",
      "MSE = 0.2710297652061379\n"
     ]
    }
   ],
   "source": [
    "print ('R Squared =',r2_score(y_test, predLOR))\n",
    "print ('MAE =',mean_absolute_error(y_test, predLOR))\n",
    "print ('MSE =',mean_squared_error(y_test, predLOR))"
   ]
  },
  {
   "cell_type": "markdown",
   "id": "227793a6",
   "metadata": {},
   "source": [
    "# **AdaBoostClassifier**"
   ]
  },
  {
   "cell_type": "code",
   "execution_count": 44,
   "id": "0ad3a521",
   "metadata": {},
   "outputs": [
    {
     "name": "stdout",
     "output_type": "stream",
     "text": [
      "Fitting 3 folds for each of 25 candidates, totalling 75 fits\n"
     ]
    },
    {
     "data": {
      "text/plain": [
       "{'n_estimators': 97, 'learning_rate': 0.3, 'algorithm': 'SAMME.R'}"
      ]
     },
     "execution_count": 44,
     "metadata": {},
     "output_type": "execute_result"
    }
   ],
   "source": [
    "from sklearn.ensemble import AdaBoostClassifier\n",
    "\n",
    "ADB_grid = {\n",
    "    'n_estimators':[int(x) for x in np.linspace(start = 50, stop= 100, num = 25)],\n",
    "    'learning_rate': [0.001, 0.01, 0.1, 0.2, 0.3],\n",
    "    'algorithm':['SAMME.R', 'SAMME'],\n",
    "}\n",
    "\n",
    "adb = AdaBoostClassifier()\n",
    "adb_random = RandomizedSearchCV(estimator=adb, param_distributions = ADB_grid, n_iter = 25, scoring = 'accuracy', error_score = 0, cv = 3, verbose = 3, n_jobs = -1)\n",
    "\n",
    "adb_random.fit(X_train, y_train)\n",
    "\n",
    "adb_random.best_params_\n"
   ]
  },
  {
   "cell_type": "code",
   "execution_count": 45,
   "id": "76cd9de5",
   "metadata": {},
   "outputs": [
    {
     "name": "stdout",
     "output_type": "stream",
     "text": [
      "Accuracy NB 77.92567942318358\n",
      "[[3580  308]\n",
      " [ 886  635]]\n",
      "<sklearn.metrics._plot.roc_curve.RocCurveDisplay object at 0x000002A792D6D070>\n",
      "              precision    recall  f1-score   support\n",
      "\n",
      "           1       0.80      0.92      0.86      3888\n",
      "           2       0.67      0.42      0.52      1521\n",
      "\n",
      "    accuracy                           0.78      5409\n",
      "   macro avg       0.74      0.67      0.69      5409\n",
      "weighted avg       0.77      0.78      0.76      5409\n",
      "\n"
     ]
    },
    {
     "name": "stderr",
     "output_type": "stream",
     "text": [
      "C:\\Users\\PC\\anaconda3\\envs\\dLGPU\\lib\\site-packages\\sklearn\\utils\\deprecation.py:87: FutureWarning: Function plot_roc_curve is deprecated; Function :func:`plot_roc_curve` is deprecated in 1.0 and will be removed in 1.2. Use one of the class methods: :meth:`sklearn.metric.RocCurveDisplay.from_predictions` or :meth:`sklearn.metric.RocCurveDisplay.from_estimator`.\n",
      "  warnings.warn(msg, category=FutureWarning)\n"
     ]
    },
    {
     "data": {
      "image/png": "[encoded data removed]",
      "text/plain": [
       "<Figure size 432x288 with 2 Axes>"
      ]
     },
     "metadata": {
      "needs_background": "light"
     },
     "output_type": "display_data"
    },
    {
     "data": {
      "image/png": "[encoded data removed]",
      "text/plain": [
       "<Figure size 432x288 with 1 Axes>"
      ]
     },
     "metadata": {
      "needs_background": "light"
     },
     "output_type": "display_data"
    }
   ],
   "source": [
    "adb = AdaBoostClassifier(n_estimators = 97, learning_rate = 0.3, algorithm = 'SAMME.R')\n",
    "adb.fit(X_train,y_train)\n",
    "\n",
    "ypredADB= adb.predict(X_test)\n",
    "accuracy = adb.score(X_test,y_test)*100\n",
    "print(\"Accuracy NB\",accuracy)\n",
    "\n",
    "cmADB = confusion_matrix(y_test, ypredADB)\n",
    "print(cmADB)\n",
    "\n",
    "sns.heatmap(cmADB, annot=True, fmt='d')\n",
    "plt.xlabel(\"Predicted\")\n",
    "plt.ylabel(\"Actual\")\n",
    "plt.title(\"Confusion Matrix\")\n",
    "\n",
    "roc = plot_roc_curve(adb, X_test, y_test)\n",
    "print(roc)\n",
    "plt.plot([0,1],[0,1])\n",
    "\n",
    "print(classification_report(y_test,ypredADB))"
   ]
  },
  {
   "cell_type": "code",
   "execution_count": 46,
   "id": "73aedb8d",
   "metadata": {},
   "outputs": [
    {
     "name": "stdout",
     "output_type": "stream",
     "text": [
      "R Squared = -0.09210862736503755\n",
      "MAE = 0.22074320576816417\n",
      "MSE = 0.22074320576816417\n"
     ]
    }
   ],
   "source": [
    "print ('R Squared =',r2_score(y_test, ypredADB))\n",
    "print ('MAE =',mean_absolute_error(y_test, ypredADB))\n",
    "print ('MSE =',mean_squared_error(y_test, ypredADB))"
   ]
  },
  {
   "cell_type": "markdown",
   "id": "e937dd05",
   "metadata": {},
   "source": [
    "# ANOVA feature selection "
   ]
  },
  {
   "cell_type": "code",
   "execution_count": null,
   "id": "4c02f46a",
   "metadata": {},
   "outputs": [],
   "source": []
  },
  {
   "cell_type": "code",
   "execution_count": null,
   "id": "509ba92b",
   "metadata": {},
   "outputs": [],
   "source": []
  },
  {
   "cell_type": "code",
   "execution_count": null,
   "id": "9381c3e8",
   "metadata": {},
   "outputs": [],
   "source": []
  }
 ],
 "metadata": {
  "kernelspec": {
   "display_name": "Python 3 (ipykernel)",
   "language": "python",
   "name": "python3"
  },
  "language_info": {
   "codemirror_mode": {
    "name": "ipython",
    "version": 3
   },
   "file_extension": ".py",
   "mimetype": "text/x-python",
   "name": "python",
   "nbconvert_exporter": "python",
   "pygments_lexer": "ipython3",
   "version": "3.9.13"
  }
 },
 "nbformat": 4,
 "nbformat_minor": 5
}
