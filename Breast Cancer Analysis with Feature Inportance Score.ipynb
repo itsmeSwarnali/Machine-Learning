{
 "cells": [
  {
   "cell_type": "code",
   "execution_count": 1,
   "id": "b92488a0-ed34-442e-a2af-6edfb0d352a2",
   "metadata": {},
   "outputs": [
    {
     "name": "stdout",
     "output_type": "stream",
     "text": [
      "Requirement already satisfied: boruta in c:\\programdata\\anaconda3\\lib\\site-packages (0.3)\n",
      "Requirement already satisfied: scikit-learn>=0.17.1 in c:\\programdata\\anaconda3\\lib\\site-packages (from boruta) (0.24.1)\n",
      "Requirement already satisfied: numpy>=1.10.4 in c:\\programdata\\anaconda3\\lib\\site-packages (from boruta) (1.20.1)\n",
      "Requirement already satisfied: scipy>=0.17.0 in c:\\programdata\\anaconda3\\lib\\site-packages (from boruta) (1.6.2)\n",
      "Requirement already satisfied: threadpoolctl>=2.0.0 in c:\\programdata\\anaconda3\\lib\\site-packages (from scikit-learn>=0.17.1->boruta) (2.1.0)\n",
      "Requirement already satisfied: joblib>=0.11 in c:\\programdata\\anaconda3\\lib\\site-packages (from scikit-learn>=0.17.1->boruta) (1.0.1)\n"
     ]
    }
   ],
   "source": [
    "!pip install boruta"
   ]
  },
  {
   "cell_type": "code",
   "execution_count": 2,
   "id": "e54bf45a-69b6-443b-8f32-737de669fb3b",
   "metadata": {},
   "outputs": [],
   "source": [
    "#import libraries\n",
    "import numpy as np\n",
    "import pandas as pd\n",
    "import seaborn as sns\n",
    "import matplotlib.pyplot as plt\n",
    "from sklearn.feature_selection import chi2\n",
    "from sklearn.feature_selection import SelectKBest\n",
    "from sklearn.ensemble import RandomForestClassifier\n",
    "import pandas as pd\n",
    "import numpy as np\n",
    "import matplotlib.pyplot as plt\n",
    "\n",
    "#Data Preprocessing\n",
    "from sklearn.model_selection import train_test_split\n",
    "from sklearn.preprocessing import StandardScaler, MinMaxScaler\n",
    "\n",
    "#Basic Models\n",
    "from sklearn.linear_model import LogisticRegression\n",
    "from sklearn.neighbors import KNeighborsClassifier\n",
    "from sklearn.svm import SVC\n",
    "from sklearn.tree import DecisionTreeClassifier\n",
    "from sklearn.ensemble import RandomForestClassifier\n",
    "import time\n",
    "\n",
    "#Metrics (Computation)\n",
    "from sklearn.metrics import precision_recall_fscore_support as score\n",
    "from sklearn.metrics import confusion_matrix,accuracy_score\n",
    "from sklearn.metrics import mean_squared_error,r2_score\n",
    "from sklearn.model_selection import GridSearchCV\n",
    "\n",
    "#Boosting Algorithms\n",
    "from sklearn.ensemble import GradientBoostingClassifier\n",
    "from sklearn.ensemble import AdaBoostClassifier\n",
    "from xgboost import XGBClassifier\n",
    "\n",
    "\n",
    "from sklearn.preprocessing import LabelEncoder\n",
    "from sklearn.preprocessing import StandardScaler"
   ]
  },
  {
   "cell_type": "code",
   "execution_count": 3,
   "id": "2716bfd0-9f35-4ca7-8cde-b55013baf17f",
   "metadata": {},
   "outputs": [
    {
     "data": {
      "text/html": [
       "<div>\n",
       "<style scoped>\n",
       "    .dataframe tbody tr th:only-of-type {\n",
       "        vertical-align: middle;\n",
       "    }\n",
       "\n",
       "    .dataframe tbody tr th {\n",
       "        vertical-align: top;\n",
       "    }\n",
       "\n",
       "    .dataframe thead th {\n",
       "        text-align: right;\n",
       "    }\n",
       "</style>\n",
       "<table border=\"1\" class=\"dataframe\">\n",
       "  <thead>\n",
       "    <tr style=\"text-align: right;\">\n",
       "      <th></th>\n",
       "      <th>Age</th>\n",
       "      <th>Race</th>\n",
       "      <th>Marital Status</th>\n",
       "      <th>T Stage</th>\n",
       "      <th>N Stage</th>\n",
       "      <th>6th Stage</th>\n",
       "      <th>Grade</th>\n",
       "      <th>A Stage</th>\n",
       "      <th>Tumor Size</th>\n",
       "      <th>Estrogen Status</th>\n",
       "      <th>Progesterone Status</th>\n",
       "      <th>Regional Node Examined</th>\n",
       "      <th>Reginol Node Positive</th>\n",
       "      <th>Survival Months</th>\n",
       "      <th>Status</th>\n",
       "    </tr>\n",
       "  </thead>\n",
       "  <tbody>\n",
       "    <tr>\n",
       "      <th>0</th>\n",
       "      <td>43</td>\n",
       "      <td>Other (American Indian/AK Native, Asian/Pacifi...</td>\n",
       "      <td>Married (including common law)</td>\n",
       "      <td>T2</td>\n",
       "      <td>N3</td>\n",
       "      <td>IIIC</td>\n",
       "      <td>Moderately differentiated; Grade II</td>\n",
       "      <td>Regional</td>\n",
       "      <td>40</td>\n",
       "      <td>Positive</td>\n",
       "      <td>Positive</td>\n",
       "      <td>19</td>\n",
       "      <td>11</td>\n",
       "      <td>1</td>\n",
       "      <td>Alive</td>\n",
       "    </tr>\n",
       "    <tr>\n",
       "      <th>1</th>\n",
       "      <td>47</td>\n",
       "      <td>Other (American Indian/AK Native, Asian/Pacifi...</td>\n",
       "      <td>Married (including common law)</td>\n",
       "      <td>T2</td>\n",
       "      <td>N2</td>\n",
       "      <td>IIIA</td>\n",
       "      <td>Moderately differentiated; Grade II</td>\n",
       "      <td>Regional</td>\n",
       "      <td>45</td>\n",
       "      <td>Positive</td>\n",
       "      <td>Positive</td>\n",
       "      <td>25</td>\n",
       "      <td>9</td>\n",
       "      <td>2</td>\n",
       "      <td>Alive</td>\n",
       "    </tr>\n",
       "    <tr>\n",
       "      <th>2</th>\n",
       "      <td>67</td>\n",
       "      <td>White</td>\n",
       "      <td>Married (including common law)</td>\n",
       "      <td>T2</td>\n",
       "      <td>N1</td>\n",
       "      <td>IIB</td>\n",
       "      <td>Poorly differentiated; Grade III</td>\n",
       "      <td>Regional</td>\n",
       "      <td>25</td>\n",
       "      <td>Positive</td>\n",
       "      <td>Positive</td>\n",
       "      <td>4</td>\n",
       "      <td>1</td>\n",
       "      <td>2</td>\n",
       "      <td>Dead</td>\n",
       "    </tr>\n",
       "    <tr>\n",
       "      <th>3</th>\n",
       "      <td>46</td>\n",
       "      <td>White</td>\n",
       "      <td>Divorced</td>\n",
       "      <td>T1</td>\n",
       "      <td>N1</td>\n",
       "      <td>IIA</td>\n",
       "      <td>Moderately differentiated; Grade II</td>\n",
       "      <td>Regional</td>\n",
       "      <td>19</td>\n",
       "      <td>Positive</td>\n",
       "      <td>Positive</td>\n",
       "      <td>26</td>\n",
       "      <td>1</td>\n",
       "      <td>2</td>\n",
       "      <td>Dead</td>\n",
       "    </tr>\n",
       "    <tr>\n",
       "      <th>4</th>\n",
       "      <td>63</td>\n",
       "      <td>White</td>\n",
       "      <td>Married (including common law)</td>\n",
       "      <td>T2</td>\n",
       "      <td>N2</td>\n",
       "      <td>IIIA</td>\n",
       "      <td>Moderately differentiated; Grade II</td>\n",
       "      <td>Regional</td>\n",
       "      <td>35</td>\n",
       "      <td>Positive</td>\n",
       "      <td>Positive</td>\n",
       "      <td>21</td>\n",
       "      <td>5</td>\n",
       "      <td>3</td>\n",
       "      <td>Dead</td>\n",
       "    </tr>\n",
       "    <tr>\n",
       "      <th>...</th>\n",
       "      <td>...</td>\n",
       "      <td>...</td>\n",
       "      <td>...</td>\n",
       "      <td>...</td>\n",
       "      <td>...</td>\n",
       "      <td>...</td>\n",
       "      <td>...</td>\n",
       "      <td>...</td>\n",
       "      <td>...</td>\n",
       "      <td>...</td>\n",
       "      <td>...</td>\n",
       "      <td>...</td>\n",
       "      <td>...</td>\n",
       "      <td>...</td>\n",
       "      <td>...</td>\n",
       "    </tr>\n",
       "    <tr>\n",
       "      <th>4019</th>\n",
       "      <td>52</td>\n",
       "      <td>White</td>\n",
       "      <td>Married (including common law)</td>\n",
       "      <td>T1</td>\n",
       "      <td>N1</td>\n",
       "      <td>IIA</td>\n",
       "      <td>Well differentiated; Grade I</td>\n",
       "      <td>Regional</td>\n",
       "      <td>10</td>\n",
       "      <td>Positive</td>\n",
       "      <td>Positive</td>\n",
       "      <td>19</td>\n",
       "      <td>1</td>\n",
       "      <td>107</td>\n",
       "      <td>Alive</td>\n",
       "    </tr>\n",
       "    <tr>\n",
       "      <th>4020</th>\n",
       "      <td>53</td>\n",
       "      <td>White</td>\n",
       "      <td>Married (including common law)</td>\n",
       "      <td>T1</td>\n",
       "      <td>N2</td>\n",
       "      <td>IIIA</td>\n",
       "      <td>Poorly differentiated; Grade III</td>\n",
       "      <td>Regional</td>\n",
       "      <td>9</td>\n",
       "      <td>Negative</td>\n",
       "      <td>Negative</td>\n",
       "      <td>13</td>\n",
       "      <td>5</td>\n",
       "      <td>107</td>\n",
       "      <td>Alive</td>\n",
       "    </tr>\n",
       "    <tr>\n",
       "      <th>4021</th>\n",
       "      <td>53</td>\n",
       "      <td>White</td>\n",
       "      <td>Divorced</td>\n",
       "      <td>T1</td>\n",
       "      <td>N1</td>\n",
       "      <td>IIA</td>\n",
       "      <td>Moderately differentiated; Grade II</td>\n",
       "      <td>Regional</td>\n",
       "      <td>9</td>\n",
       "      <td>Negative</td>\n",
       "      <td>Negative</td>\n",
       "      <td>4</td>\n",
       "      <td>2</td>\n",
       "      <td>107</td>\n",
       "      <td>Alive</td>\n",
       "    </tr>\n",
       "    <tr>\n",
       "      <th>4022</th>\n",
       "      <td>60</td>\n",
       "      <td>Other (American Indian/AK Native, Asian/Pacifi...</td>\n",
       "      <td>Married (including common law)</td>\n",
       "      <td>T1</td>\n",
       "      <td>N1</td>\n",
       "      <td>IIA</td>\n",
       "      <td>Moderately differentiated; Grade II</td>\n",
       "      <td>Regional</td>\n",
       "      <td>9</td>\n",
       "      <td>Positive</td>\n",
       "      <td>Positive</td>\n",
       "      <td>14</td>\n",
       "      <td>2</td>\n",
       "      <td>107</td>\n",
       "      <td>Alive</td>\n",
       "    </tr>\n",
       "    <tr>\n",
       "      <th>4023</th>\n",
       "      <td>62</td>\n",
       "      <td>White</td>\n",
       "      <td>Divorced</td>\n",
       "      <td>T1</td>\n",
       "      <td>N1</td>\n",
       "      <td>IIA</td>\n",
       "      <td>Moderately differentiated; Grade II</td>\n",
       "      <td>Regional</td>\n",
       "      <td>8</td>\n",
       "      <td>Positive</td>\n",
       "      <td>Positive</td>\n",
       "      <td>1</td>\n",
       "      <td>1</td>\n",
       "      <td>107</td>\n",
       "      <td>Alive</td>\n",
       "    </tr>\n",
       "  </tbody>\n",
       "</table>\n",
       "<p>4024 rows × 15 columns</p>\n",
       "</div>"
      ],
      "text/plain": [
       "      Age                                               Race  \\\n",
       "0      43  Other (American Indian/AK Native, Asian/Pacifi...   \n",
       "1      47  Other (American Indian/AK Native, Asian/Pacifi...   \n",
       "2      67                                              White   \n",
       "3      46                                              White   \n",
       "4      63                                              White   \n",
       "...   ...                                                ...   \n",
       "4019   52                                              White   \n",
       "4020   53                                              White   \n",
       "4021   53                                              White   \n",
       "4022   60  Other (American Indian/AK Native, Asian/Pacifi...   \n",
       "4023   62                                              White   \n",
       "\n",
       "                      Marital Status T Stage N Stage 6th Stage  \\\n",
       "0     Married (including common law)      T2      N3      IIIC   \n",
       "1     Married (including common law)      T2      N2      IIIA   \n",
       "2     Married (including common law)      T2      N1       IIB   \n",
       "3                           Divorced      T1      N1       IIA   \n",
       "4     Married (including common law)      T2      N2      IIIA   \n",
       "...                              ...     ...     ...       ...   \n",
       "4019  Married (including common law)      T1      N1       IIA   \n",
       "4020  Married (including common law)      T1      N2      IIIA   \n",
       "4021                        Divorced      T1      N1       IIA   \n",
       "4022  Married (including common law)      T1      N1       IIA   \n",
       "4023                        Divorced      T1      N1       IIA   \n",
       "\n",
       "                                    Grade   A Stage  Tumor Size  \\\n",
       "0     Moderately differentiated; Grade II  Regional          40   \n",
       "1     Moderately differentiated; Grade II  Regional          45   \n",
       "2        Poorly differentiated; Grade III  Regional          25   \n",
       "3     Moderately differentiated; Grade II  Regional          19   \n",
       "4     Moderately differentiated; Grade II  Regional          35   \n",
       "...                                   ...       ...         ...   \n",
       "4019         Well differentiated; Grade I  Regional          10   \n",
       "4020     Poorly differentiated; Grade III  Regional           9   \n",
       "4021  Moderately differentiated; Grade II  Regional           9   \n",
       "4022  Moderately differentiated; Grade II  Regional           9   \n",
       "4023  Moderately differentiated; Grade II  Regional           8   \n",
       "\n",
       "     Estrogen Status Progesterone Status  Regional Node Examined  \\\n",
       "0           Positive            Positive                      19   \n",
       "1           Positive            Positive                      25   \n",
       "2           Positive            Positive                       4   \n",
       "3           Positive            Positive                      26   \n",
       "4           Positive            Positive                      21   \n",
       "...              ...                 ...                     ...   \n",
       "4019        Positive            Positive                      19   \n",
       "4020        Negative            Negative                      13   \n",
       "4021        Negative            Negative                       4   \n",
       "4022        Positive            Positive                      14   \n",
       "4023        Positive            Positive                       1   \n",
       "\n",
       "      Reginol Node Positive  Survival Months Status  \n",
       "0                        11                1  Alive  \n",
       "1                         9                2  Alive  \n",
       "2                         1                2   Dead  \n",
       "3                         1                2   Dead  \n",
       "4                         5                3   Dead  \n",
       "...                     ...              ...    ...  \n",
       "4019                      1              107  Alive  \n",
       "4020                      5              107  Alive  \n",
       "4021                      2              107  Alive  \n",
       "4022                      2              107  Alive  \n",
       "4023                      1              107  Alive  \n",
       "\n",
       "[4024 rows x 15 columns]"
      ]
     },
     "execution_count": 3,
     "metadata": {},
     "output_type": "execute_result"
    }
   ],
   "source": [
    "df = pd.read_csv(\"F:\\\\Research\\Breast Cancer\\\\SEER Breast Cancer Dataset.csv\")\n",
    "df"
   ]
  },
  {
   "cell_type": "code",
   "execution_count": 4,
   "id": "838e29bd-e78e-413d-a33f-db514518a9bb",
   "metadata": {},
   "outputs": [
    {
     "data": {
      "text/plain": [
       "Age                       0\n",
       "Race                      0\n",
       "Marital Status            0\n",
       "T Stage                   0\n",
       "N Stage                   0\n",
       "6th Stage                 0\n",
       "Grade                     0\n",
       "A Stage                   0\n",
       "Tumor Size                0\n",
       "Estrogen Status           0\n",
       "Progesterone Status       0\n",
       "Regional Node Examined    0\n",
       "Reginol Node Positive     0\n",
       "Survival Months           0\n",
       "Status                    0\n",
       "dtype: int64"
      ]
     },
     "execution_count": 4,
     "metadata": {},
     "output_type": "execute_result"
    }
   ],
   "source": [
    "df.isnull().sum()"
   ]
  },
  {
   "cell_type": "code",
   "execution_count": 5,
   "id": "85420d56-77c7-4539-8beb-8a818c975768",
   "metadata": {},
   "outputs": [
    {
     "data": {
      "text/plain": [
       "(4024, 15)"
      ]
     },
     "execution_count": 5,
     "metadata": {},
     "output_type": "execute_result"
    }
   ],
   "source": [
    "df.shape"
   ]
  },
  {
   "cell_type": "code",
   "execution_count": 6,
   "id": "c335f1fe-7e56-4eb2-a9c6-9f173ab96074",
   "metadata": {},
   "outputs": [
    {
     "data": {
      "text/html": [
       "<div>\n",
       "<style scoped>\n",
       "    .dataframe tbody tr th:only-of-type {\n",
       "        vertical-align: middle;\n",
       "    }\n",
       "\n",
       "    .dataframe tbody tr th {\n",
       "        vertical-align: top;\n",
       "    }\n",
       "\n",
       "    .dataframe thead th {\n",
       "        text-align: right;\n",
       "    }\n",
       "</style>\n",
       "<table border=\"1\" class=\"dataframe\">\n",
       "  <thead>\n",
       "    <tr style=\"text-align: right;\">\n",
       "      <th></th>\n",
       "      <th>count</th>\n",
       "      <th>mean</th>\n",
       "      <th>std</th>\n",
       "      <th>min</th>\n",
       "      <th>25%</th>\n",
       "      <th>50%</th>\n",
       "      <th>75%</th>\n",
       "      <th>max</th>\n",
       "    </tr>\n",
       "  </thead>\n",
       "  <tbody>\n",
       "    <tr>\n",
       "      <th>Age</th>\n",
       "      <td>4024.0</td>\n",
       "      <td>53.972167</td>\n",
       "      <td>8.963134</td>\n",
       "      <td>30.0</td>\n",
       "      <td>47.0</td>\n",
       "      <td>54.0</td>\n",
       "      <td>61.0</td>\n",
       "      <td>69.0</td>\n",
       "    </tr>\n",
       "    <tr>\n",
       "      <th>Tumor Size</th>\n",
       "      <td>4024.0</td>\n",
       "      <td>30.473658</td>\n",
       "      <td>21.119696</td>\n",
       "      <td>1.0</td>\n",
       "      <td>16.0</td>\n",
       "      <td>25.0</td>\n",
       "      <td>38.0</td>\n",
       "      <td>140.0</td>\n",
       "    </tr>\n",
       "    <tr>\n",
       "      <th>Regional Node Examined</th>\n",
       "      <td>4024.0</td>\n",
       "      <td>14.357107</td>\n",
       "      <td>8.099675</td>\n",
       "      <td>1.0</td>\n",
       "      <td>9.0</td>\n",
       "      <td>14.0</td>\n",
       "      <td>19.0</td>\n",
       "      <td>61.0</td>\n",
       "    </tr>\n",
       "    <tr>\n",
       "      <th>Reginol Node Positive</th>\n",
       "      <td>4024.0</td>\n",
       "      <td>4.158052</td>\n",
       "      <td>5.109331</td>\n",
       "      <td>1.0</td>\n",
       "      <td>1.0</td>\n",
       "      <td>2.0</td>\n",
       "      <td>5.0</td>\n",
       "      <td>46.0</td>\n",
       "    </tr>\n",
       "    <tr>\n",
       "      <th>Survival Months</th>\n",
       "      <td>4024.0</td>\n",
       "      <td>71.297962</td>\n",
       "      <td>22.921430</td>\n",
       "      <td>1.0</td>\n",
       "      <td>56.0</td>\n",
       "      <td>73.0</td>\n",
       "      <td>90.0</td>\n",
       "      <td>107.0</td>\n",
       "    </tr>\n",
       "  </tbody>\n",
       "</table>\n",
       "</div>"
      ],
      "text/plain": [
       "                         count       mean        std   min   25%   50%   75%  \\\n",
       "Age                     4024.0  53.972167   8.963134  30.0  47.0  54.0  61.0   \n",
       "Tumor Size              4024.0  30.473658  21.119696   1.0  16.0  25.0  38.0   \n",
       "Regional Node Examined  4024.0  14.357107   8.099675   1.0   9.0  14.0  19.0   \n",
       "Reginol Node Positive   4024.0   4.158052   5.109331   1.0   1.0   2.0   5.0   \n",
       "Survival Months         4024.0  71.297962  22.921430   1.0  56.0  73.0  90.0   \n",
       "\n",
       "                          max  \n",
       "Age                      69.0  \n",
       "Tumor Size              140.0  \n",
       "Regional Node Examined   61.0  \n",
       "Reginol Node Positive    46.0  \n",
       "Survival Months         107.0  "
      ]
     },
     "execution_count": 6,
     "metadata": {},
     "output_type": "execute_result"
    }
   ],
   "source": [
    "df.describe().T"
   ]
  },
  {
   "cell_type": "code",
   "execution_count": 7,
   "id": "5fc27e97-29a0-4882-984e-6e5f304c3e90",
   "metadata": {},
   "outputs": [
    {
     "name": "stdout",
     "output_type": "stream",
     "text": [
      "Alive    3408\n",
      "Dead      616\n",
      "Name: Status, dtype: int64\n"
     ]
    },
    {
     "data": {
      "text/plain": [
       "<AxesSubplot:>"
      ]
     },
     "execution_count": 7,
     "metadata": {},
     "output_type": "execute_result"
    },
    {
     "data": {
      "image/png": "[encoded data removed]",
      "text/plain": [
       "<Figure size 432x288 with 1 Axes>"
      ]
     },
     "metadata": {
      "needs_background": "light"
     },
     "output_type": "display_data"
    }
   ],
   "source": [
    "print(df.Status.value_counts())\n",
    "df.Status.value_counts().plot(kind=\"bar\")"
   ]
  },
  {
   "cell_type": "markdown",
   "id": "714e12ba-43be-49f0-b2a5-2642c968714f",
   "metadata": {},
   "source": [
    "**Encoding with LabelEncoder**"
   ]
  },
  {
   "cell_type": "code",
   "execution_count": 8,
   "id": "ffa18826-6ef0-4041-bcc0-e95568b38356",
   "metadata": {},
   "outputs": [
    {
     "data": {
      "text/html": [
       "<div>\n",
       "<style scoped>\n",
       "    .dataframe tbody tr th:only-of-type {\n",
       "        vertical-align: middle;\n",
       "    }\n",
       "\n",
       "    .dataframe tbody tr th {\n",
       "        vertical-align: top;\n",
       "    }\n",
       "\n",
       "    .dataframe thead th {\n",
       "        text-align: right;\n",
       "    }\n",
       "</style>\n",
       "<table border=\"1\" class=\"dataframe\">\n",
       "  <thead>\n",
       "    <tr style=\"text-align: right;\">\n",
       "      <th></th>\n",
       "      <th>Age</th>\n",
       "      <th>Race</th>\n",
       "      <th>Marital Status</th>\n",
       "      <th>T Stage</th>\n",
       "      <th>N Stage</th>\n",
       "      <th>6th Stage</th>\n",
       "      <th>Grade</th>\n",
       "      <th>A Stage</th>\n",
       "      <th>Tumor Size</th>\n",
       "      <th>Estrogen Status</th>\n",
       "      <th>Progesterone Status</th>\n",
       "      <th>Regional Node Examined</th>\n",
       "      <th>Reginol Node Positive</th>\n",
       "      <th>Survival Months</th>\n",
       "      <th>Status</th>\n",
       "    </tr>\n",
       "  </thead>\n",
       "  <tbody>\n",
       "    <tr>\n",
       "      <th>0</th>\n",
       "      <td>13</td>\n",
       "      <td>1</td>\n",
       "      <td>1</td>\n",
       "      <td>1</td>\n",
       "      <td>2</td>\n",
       "      <td>4</td>\n",
       "      <td>0</td>\n",
       "      <td>1</td>\n",
       "      <td>39</td>\n",
       "      <td>1</td>\n",
       "      <td>1</td>\n",
       "      <td>18</td>\n",
       "      <td>10</td>\n",
       "      <td>0</td>\n",
       "      <td>0</td>\n",
       "    </tr>\n",
       "    <tr>\n",
       "      <th>1</th>\n",
       "      <td>17</td>\n",
       "      <td>1</td>\n",
       "      <td>1</td>\n",
       "      <td>1</td>\n",
       "      <td>1</td>\n",
       "      <td>2</td>\n",
       "      <td>0</td>\n",
       "      <td>1</td>\n",
       "      <td>44</td>\n",
       "      <td>1</td>\n",
       "      <td>1</td>\n",
       "      <td>24</td>\n",
       "      <td>8</td>\n",
       "      <td>1</td>\n",
       "      <td>0</td>\n",
       "    </tr>\n",
       "    <tr>\n",
       "      <th>2</th>\n",
       "      <td>37</td>\n",
       "      <td>2</td>\n",
       "      <td>1</td>\n",
       "      <td>1</td>\n",
       "      <td>0</td>\n",
       "      <td>1</td>\n",
       "      <td>1</td>\n",
       "      <td>1</td>\n",
       "      <td>24</td>\n",
       "      <td>1</td>\n",
       "      <td>1</td>\n",
       "      <td>3</td>\n",
       "      <td>0</td>\n",
       "      <td>1</td>\n",
       "      <td>1</td>\n",
       "    </tr>\n",
       "    <tr>\n",
       "      <th>3</th>\n",
       "      <td>16</td>\n",
       "      <td>2</td>\n",
       "      <td>0</td>\n",
       "      <td>0</td>\n",
       "      <td>0</td>\n",
       "      <td>0</td>\n",
       "      <td>0</td>\n",
       "      <td>1</td>\n",
       "      <td>18</td>\n",
       "      <td>1</td>\n",
       "      <td>1</td>\n",
       "      <td>25</td>\n",
       "      <td>0</td>\n",
       "      <td>1</td>\n",
       "      <td>1</td>\n",
       "    </tr>\n",
       "    <tr>\n",
       "      <th>4</th>\n",
       "      <td>33</td>\n",
       "      <td>2</td>\n",
       "      <td>1</td>\n",
       "      <td>1</td>\n",
       "      <td>1</td>\n",
       "      <td>2</td>\n",
       "      <td>0</td>\n",
       "      <td>1</td>\n",
       "      <td>34</td>\n",
       "      <td>1</td>\n",
       "      <td>1</td>\n",
       "      <td>20</td>\n",
       "      <td>4</td>\n",
       "      <td>2</td>\n",
       "      <td>1</td>\n",
       "    </tr>\n",
       "    <tr>\n",
       "      <th>...</th>\n",
       "      <td>...</td>\n",
       "      <td>...</td>\n",
       "      <td>...</td>\n",
       "      <td>...</td>\n",
       "      <td>...</td>\n",
       "      <td>...</td>\n",
       "      <td>...</td>\n",
       "      <td>...</td>\n",
       "      <td>...</td>\n",
       "      <td>...</td>\n",
       "      <td>...</td>\n",
       "      <td>...</td>\n",
       "      <td>...</td>\n",
       "      <td>...</td>\n",
       "      <td>...</td>\n",
       "    </tr>\n",
       "    <tr>\n",
       "      <th>4019</th>\n",
       "      <td>22</td>\n",
       "      <td>2</td>\n",
       "      <td>1</td>\n",
       "      <td>0</td>\n",
       "      <td>0</td>\n",
       "      <td>0</td>\n",
       "      <td>3</td>\n",
       "      <td>1</td>\n",
       "      <td>9</td>\n",
       "      <td>1</td>\n",
       "      <td>1</td>\n",
       "      <td>18</td>\n",
       "      <td>0</td>\n",
       "      <td>106</td>\n",
       "      <td>0</td>\n",
       "    </tr>\n",
       "    <tr>\n",
       "      <th>4020</th>\n",
       "      <td>23</td>\n",
       "      <td>2</td>\n",
       "      <td>1</td>\n",
       "      <td>0</td>\n",
       "      <td>1</td>\n",
       "      <td>2</td>\n",
       "      <td>1</td>\n",
       "      <td>1</td>\n",
       "      <td>8</td>\n",
       "      <td>0</td>\n",
       "      <td>0</td>\n",
       "      <td>12</td>\n",
       "      <td>4</td>\n",
       "      <td>106</td>\n",
       "      <td>0</td>\n",
       "    </tr>\n",
       "    <tr>\n",
       "      <th>4021</th>\n",
       "      <td>23</td>\n",
       "      <td>2</td>\n",
       "      <td>0</td>\n",
       "      <td>0</td>\n",
       "      <td>0</td>\n",
       "      <td>0</td>\n",
       "      <td>0</td>\n",
       "      <td>1</td>\n",
       "      <td>8</td>\n",
       "      <td>0</td>\n",
       "      <td>0</td>\n",
       "      <td>3</td>\n",
       "      <td>1</td>\n",
       "      <td>106</td>\n",
       "      <td>0</td>\n",
       "    </tr>\n",
       "    <tr>\n",
       "      <th>4022</th>\n",
       "      <td>30</td>\n",
       "      <td>1</td>\n",
       "      <td>1</td>\n",
       "      <td>0</td>\n",
       "      <td>0</td>\n",
       "      <td>0</td>\n",
       "      <td>0</td>\n",
       "      <td>1</td>\n",
       "      <td>8</td>\n",
       "      <td>1</td>\n",
       "      <td>1</td>\n",
       "      <td>13</td>\n",
       "      <td>1</td>\n",
       "      <td>106</td>\n",
       "      <td>0</td>\n",
       "    </tr>\n",
       "    <tr>\n",
       "      <th>4023</th>\n",
       "      <td>32</td>\n",
       "      <td>2</td>\n",
       "      <td>0</td>\n",
       "      <td>0</td>\n",
       "      <td>0</td>\n",
       "      <td>0</td>\n",
       "      <td>0</td>\n",
       "      <td>1</td>\n",
       "      <td>7</td>\n",
       "      <td>1</td>\n",
       "      <td>1</td>\n",
       "      <td>0</td>\n",
       "      <td>0</td>\n",
       "      <td>106</td>\n",
       "      <td>0</td>\n",
       "    </tr>\n",
       "  </tbody>\n",
       "</table>\n",
       "<p>4024 rows × 15 columns</p>\n",
       "</div>"
      ],
      "text/plain": [
       "      Age  Race  Marital Status  T Stage  N Stage  6th Stage  Grade  A Stage  \\\n",
       "0      13     1               1        1        2          4      0        1   \n",
       "1      17     1               1        1        1          2      0        1   \n",
       "2      37     2               1        1        0          1      1        1   \n",
       "3      16     2               0        0        0          0      0        1   \n",
       "4      33     2               1        1        1          2      0        1   \n",
       "...   ...   ...             ...      ...      ...        ...    ...      ...   \n",
       "4019   22     2               1        0        0          0      3        1   \n",
       "4020   23     2               1        0        1          2      1        1   \n",
       "4021   23     2               0        0        0          0      0        1   \n",
       "4022   30     1               1        0        0          0      0        1   \n",
       "4023   32     2               0        0        0          0      0        1   \n",
       "\n",
       "      Tumor Size  Estrogen Status  Progesterone Status  \\\n",
       "0             39                1                    1   \n",
       "1             44                1                    1   \n",
       "2             24                1                    1   \n",
       "3             18                1                    1   \n",
       "4             34                1                    1   \n",
       "...          ...              ...                  ...   \n",
       "4019           9                1                    1   \n",
       "4020           8                0                    0   \n",
       "4021           8                0                    0   \n",
       "4022           8                1                    1   \n",
       "4023           7                1                    1   \n",
       "\n",
       "      Regional Node Examined  Reginol Node Positive  Survival Months  Status  \n",
       "0                         18                     10                0       0  \n",
       "1                         24                      8                1       0  \n",
       "2                          3                      0                1       1  \n",
       "3                         25                      0                1       1  \n",
       "4                         20                      4                2       1  \n",
       "...                      ...                    ...              ...     ...  \n",
       "4019                      18                      0              106       0  \n",
       "4020                      12                      4              106       0  \n",
       "4021                       3                      1              106       0  \n",
       "4022                      13                      1              106       0  \n",
       "4023                       0                      0              106       0  \n",
       "\n",
       "[4024 rows x 15 columns]"
      ]
     },
     "execution_count": 8,
     "metadata": {},
     "output_type": "execute_result"
    }
   ],
   "source": [
    "df = df.apply(LabelEncoder().fit_transform)\n",
    "df"
   ]
  },
  {
   "cell_type": "code",
   "execution_count": 9,
   "id": "9c93962b-7987-4785-b83b-8a6942c97b48",
   "metadata": {},
   "outputs": [
    {
     "data": {
      "text/plain": [
       "<AxesSubplot:>"
      ]
     },
     "execution_count": 9,
     "metadata": {},
     "output_type": "execute_result"
    },
    {
     "data": {
      "image/png": "[encoded data removed]",
      "text/plain": [
       "<Figure size 432x288 with 2 Axes>"
      ]
     },
     "metadata": {
      "needs_background": "light"
     },
     "output_type": "display_data"
    }
   ],
   "source": [
    "import seaborn as sns\n",
    "sns.heatmap(df)"
   ]
  },
  {
   "cell_type": "code",
   "execution_count": 10,
   "id": "11261fa8-cf5c-4652-a68a-f479724cdefc",
   "metadata": {},
   "outputs": [],
   "source": [
    "x = df.drop(['Status'],axis =1)\n",
    "y = df['Status']"
   ]
  },
  {
   "cell_type": "code",
   "execution_count": 11,
   "id": "9a42d058-1a82-4bf6-a3dc-2235bd4f6634",
   "metadata": {
    "tags": []
   },
   "outputs": [],
   "source": [
    "#df.info"
   ]
  },
  {
   "cell_type": "code",
   "execution_count": 12,
   "id": "af229a30-5b0c-4cf6-8878-9585975fb2db",
   "metadata": {},
   "outputs": [
    {
     "data": {
      "text/plain": [
       "\"# Feature Selection with Univariate Statistical Tests\\nfrom pandas import read_csv\\nfrom numpy import set_printoptions\\nfrom sklearn.feature_selection import SelectKBest\\nfrom sklearn.feature_selection import f_classif\\nX = df.drop('Status', axis=1)\\nY = df['Status']\\n# feature extraction\\ntest = SelectKBest(score_func=f_classif, k=4)\\nfit = test.fit(X, Y)\\n# summarize scores\\nset_printoptions(precision=3)\\nprint(fit.scores_)\\nfeatures = fit.transform(X)\\n# summarize selected features\\nprint(features[0:5,:])\""
      ]
     },
     "execution_count": 12,
     "metadata": {},
     "output_type": "execute_result"
    }
   ],
   "source": [
    "'''# Feature Selection with Univariate Statistical Tests\n",
    "from pandas import read_csv\n",
    "from numpy import set_printoptions\n",
    "from sklearn.feature_selection import SelectKBest\n",
    "from sklearn.feature_selection import f_classif\n",
    "X = df.drop('Status', axis=1)\n",
    "Y = df['Status']\n",
    "# feature extraction\n",
    "test = SelectKBest(score_func=f_classif, k=4)\n",
    "fit = test.fit(X, Y)\n",
    "# summarize scores\n",
    "set_printoptions(precision=3)\n",
    "print(fit.scores_)\n",
    "features = fit.transform(X)\n",
    "# summarize selected features\n",
    "print(features[0:5,:])'''"
   ]
  },
  {
   "cell_type": "markdown",
   "id": "ccb2385f-0381-45ff-966f-3d384ef3797a",
   "metadata": {},
   "source": [
    "**apply SelectKBest class to extract top 10 best features**"
   ]
  },
  {
   "cell_type": "code",
   "execution_count": 13,
   "id": "1aea0d4c-d75d-43e9-bcc3-75f1b6800009",
   "metadata": {},
   "outputs": [
    {
     "data": {
      "text/plain": [
       "\"#apply SelectKBest class to extract top 10 best features\\nkbest = SelectKBest(score_func=chi2, k=39)\\nfit = kbest.fit(x,y)\\ndf_scores = pd.DataFrame(fit.scores_)\\ndf_columns = pd.DataFrame(x.columns)\\n#concat two dataframes for better visualization \\nfScores = pd.concat([df_columns,df_scores],axis=1)\\nfScores.columns = ['Feature','Score']  #naming the dataframe columns\\nprint(fScores.nlargest(15,'Score')) \\nplt.show()\""
      ]
     },
     "execution_count": 13,
     "metadata": {},
     "output_type": "execute_result"
    }
   ],
   "source": [
    "'''#apply SelectKBest class to extract top 10 best features\n",
    "kbest = SelectKBest(score_func=chi2, k=39)\n",
    "fit = kbest.fit(x,y)\n",
    "df_scores = pd.DataFrame(fit.scores_)\n",
    "df_columns = pd.DataFrame(x.columns)\n",
    "#concat two dataframes for better visualization \n",
    "fScores = pd.concat([df_columns,df_scores],axis=1)\n",
    "fScores.columns = ['Feature','Score']  #naming the dataframe columns\n",
    "print(fScores.nlargest(15,'Score')) \n",
    "plt.show()'''\n"
   ]
  },
  {
   "cell_type": "code",
   "execution_count": 14,
   "id": "50c5cb74-0d48-4590-a33a-a5b36a9b78e2",
   "metadata": {},
   "outputs": [
    {
     "name": "stderr",
     "output_type": "stream",
     "text": [
      "C:\\ProgramData\\Anaconda3\\lib\\site-packages\\xgboost\\sklearn.py:1146: UserWarning: The use of label encoder in XGBClassifier is deprecated and will be removed in a future release. To remove this warning, do the following: 1) Pass option use_label_encoder=False when constructing XGBClassifier object; and 2) Encode your labels (y) as integers starting with 0, i.e. 0, 1, 2, ..., [num_class - 1].\n",
      "  warnings.warn(label_encoder_deprecation_msg, UserWarning)\n"
     ]
    },
    {
     "name": "stdout",
     "output_type": "stream",
     "text": [
      "[16:50:13] WARNING: C:/Users/Administrator/workspace/xgboost-win64_release_1.4.0/src/learner.cc:1095: Starting in XGBoost 1.3.0, the default evaluation metric used with the objective 'binary:logistic' was changed from 'error' to 'logloss'. Explicitly set eval_metric if you'd like to restore the old behavior.\n",
      "[0.0535476  0.04644491 0.05209235 0.05101075 0.04940238 0.09516416\n",
      " 0.05255044 0.04942639 0.04250563 0.12215221 0.10827341 0.04583262\n",
      " 0.05990021 0.17169687]\n"
     ]
    },
    {
     "data": {
      "image/png": "[encoded data removed]",
      "text/plain": [
       "<Figure size 432x288 with 1 Axes>"
      ]
     },
     "metadata": {
      "needs_background": "light"
     },
     "output_type": "display_data"
    }
   ],
   "source": [
    "# plot feature importance manually\n",
    "#XGBoost\n",
    "from numpy import loadtxt\n",
    "from xgboost import XGBClassifier\n",
    "from matplotlib import pyplot\n",
    "from xgboost import plot_importance\n",
    "\n",
    "# fit model no training data\n",
    "model = XGBClassifier()\n",
    "model.fit(x, y)\n",
    "# feature importance\n",
    "print(model.feature_importances_)\n",
    "# plot\n",
    "plot_importance(model)\n",
    "pyplot.show()"
   ]
  },
  {
   "cell_type": "markdown",
   "id": "a8afde08",
   "metadata": {},
   "source": [
    "# xgboost for feature importance on a classification problem"
   ]
  },
  {
   "cell_type": "code",
   "execution_count": 15,
   "id": "4ece5a61-19fa-48de-b03c-f678fb7560f1",
   "metadata": {},
   "outputs": [
    {
     "name": "stdout",
     "output_type": "stream",
     "text": [
      "[16:51:07] WARNING: C:/Users/Administrator/workspace/xgboost-win64_release_1.4.0/src/learner.cc:1095: Starting in XGBoost 1.3.0, the default evaluation metric used with the objective 'binary:logistic' was changed from 'error' to 'logloss'. Explicitly set eval_metric if you'd like to restore the old behavior.\n",
      "Feature: 0, Score: 0.03976\n",
      "Feature: 1, Score: 0.04328\n",
      "Feature: 2, Score: 0.01687\n",
      "Feature: 3, Score: 0.08084\n",
      "Feature: 4, Score: 0.09975\n",
      "Feature: 5, Score: 0.01704\n",
      "Feature: 6, Score: 0.03634\n",
      "Feature: 7, Score: 0.25934\n",
      "Feature: 8, Score: 0.08090\n",
      "Feature: 9, Score: 0.16074\n",
      "Feature: 10, Score: 0.01686\n",
      "Feature: 11, Score: 0.02107\n",
      "Feature: 12, Score: 0.06643\n",
      "Feature: 13, Score: 0.06076\n"
     ]
    },
    {
     "data": {
      "image/png": "[encoded data removed]",
      "text/plain": [
       "<Figure size 432x288 with 1 Axes>"
      ]
     },
     "metadata": {
      "needs_background": "light"
     },
     "output_type": "display_data"
    }
   ],
   "source": [
    "# xgboost for feature importance on a classification problem\n",
    "from sklearn.datasets import make_classification\n",
    "from xgboost import XGBClassifier\n",
    "from matplotlib import pyplot\n",
    "# define dataset\n",
    "x, y = make_classification(n_samples=4024, n_features=14, n_informative=5, n_redundant=5, random_state=1)\n",
    "# define the model\n",
    "model = XGBClassifier()\n",
    "# fit the model\n",
    "model.fit(x, y)\n",
    "# get importance\n",
    "importance = model.feature_importances_\n",
    "# summarize feature importance\n",
    "for i,v in enumerate(importance):\n",
    "\tprint('Feature: %0d, Score: %.5f' % (i,v))\n",
    "# plot feature importance\n",
    "pyplot.bar([x for x in range(len(importance))], importance)\n",
    "pyplot.show()"
   ]
  },
  {
   "cell_type": "markdown",
   "id": "df1d2c16",
   "metadata": {},
   "source": [
    "# linear regression feature importance"
   ]
  },
  {
   "cell_type": "code",
   "execution_count": 16,
   "id": "424411b0-b6df-46ad-92e4-d3d88169d1c7",
   "metadata": {},
   "outputs": [
    {
     "name": "stdout",
     "output_type": "stream",
     "text": [
      "Feature: 0, Score: 0.00000\n",
      "Feature: 1, Score: 0.00000\n",
      "Feature: 2, Score: -0.00000\n",
      "Feature: 3, Score: 80.45119\n",
      "Feature: 4, Score: 21.08104\n",
      "Feature: 5, Score: 2.64578\n",
      "Feature: 6, Score: -0.00000\n",
      "Feature: 7, Score: 0.00000\n",
      "Feature: 8, Score: -0.00000\n",
      "Feature: 9, Score: -0.00000\n",
      "Feature: 10, Score: 21.74208\n",
      "Feature: 11, Score: 0.00000\n",
      "Feature: 12, Score: 0.00000\n",
      "Feature: 13, Score: 92.38744\n"
     ]
    },
    {
     "data": {
      "image/png": "[encoded data removed]",
      "text/plain": [
       "<Figure size 432x288 with 1 Axes>"
      ]
     },
     "metadata": {
      "needs_background": "light"
     },
     "output_type": "display_data"
    }
   ],
   "source": [
    "# linear regression feature importance\n",
    "from sklearn.datasets import make_regression\n",
    "from sklearn.linear_model import LinearRegression\n",
    "from matplotlib import pyplot\n",
    "\n",
    "# define dataset\n",
    "x, y = make_regression(n_samples=4024, n_features=14, n_informative=5, random_state=1)\n",
    "\n",
    "# define the model\n",
    "model = LinearRegression()\n",
    "\n",
    "# fit the model\n",
    "model.fit(x, y)\n",
    "\n",
    "# get importance\n",
    "importance = model.coef_\n",
    "\n",
    "# summarize feature importance\n",
    "for i,v in enumerate(importance):\n",
    "\tprint('Feature: %0d, Score: %.5f' % (i,v))\n",
    "    \n",
    "# plot feature importance\n",
    "pyplot.bar([x for x in range(len(importance))], importance)\n",
    "pyplot.show()"
   ]
  },
  {
   "cell_type": "markdown",
   "id": "dd4cd65a",
   "metadata": {},
   "source": [
    "# logistic regression for feature importance"
   ]
  },
  {
   "cell_type": "code",
   "execution_count": 17,
   "id": "2a13d376-25de-4a6a-9ae0-a38106b7ec46",
   "metadata": {},
   "outputs": [
    {
     "name": "stdout",
     "output_type": "stream",
     "text": [
      "Feature: 0, Score: 0.06957\n",
      "Feature: 1, Score: 0.20235\n",
      "Feature: 2, Score: 0.01906\n",
      "Feature: 3, Score: -0.24096\n",
      "Feature: 4, Score: 0.09222\n",
      "Feature: 5, Score: -0.15440\n",
      "Feature: 6, Score: 0.38460\n",
      "Feature: 7, Score: 0.01627\n",
      "Feature: 8, Score: -0.02233\n",
      "Feature: 9, Score: 0.01961\n",
      "Feature: 10, Score: -0.01673\n",
      "Feature: 11, Score: -0.24145\n",
      "Feature: 12, Score: -0.05283\n",
      "Feature: 13, Score: -0.03105\n"
     ]
    },
    {
     "data": {
      "image/png": "[encoded data removed]",
      "text/plain": [
       "<Figure size 432x288 with 1 Axes>"
      ]
     },
     "metadata": {
      "needs_background": "light"
     },
     "output_type": "display_data"
    }
   ],
   "source": [
    "# logistic regression for feature importance\n",
    "from sklearn.datasets import make_classification\n",
    "from sklearn.linear_model import LogisticRegression\n",
    "from matplotlib import pyplot\n",
    "# define dataset\n",
    "x, y = make_classification(n_samples=4024, n_features=14, n_informative=5, random_state=1)\n",
    "# define the model\n",
    "model = LogisticRegression()\n",
    "# fit the model\n",
    "model.fit(x, y)\n",
    "# get importance\n",
    "importance = model.coef_[0]\n",
    "# summarize feature importance\n",
    "for i,v in enumerate(importance):\n",
    "\tprint('Feature: %0d, Score: %.5f' % (i,v))\n",
    "# plot feature importance\n",
    "pyplot.bar([x for x in range(len(importance))], importance)\n",
    "pyplot.show()"
   ]
  },
  {
   "cell_type": "markdown",
   "id": "1b2642f0",
   "metadata": {},
   "source": [
    "# DecisionTreeRegressor Feature Importance "
   ]
  },
  {
   "cell_type": "code",
   "execution_count": 18,
   "id": "38073a9f-1018-4e91-b9ac-24fa95156e8d",
   "metadata": {},
   "outputs": [
    {
     "name": "stdout",
     "output_type": "stream",
     "text": [
      "Feature: 0, Score: 0.00106\n",
      "Feature: 1, Score: 0.00155\n",
      "Feature: 2, Score: 0.00137\n",
      "Feature: 3, Score: 0.41114\n",
      "Feature: 4, Score: 0.02125\n",
      "Feature: 5, Score: 0.00157\n",
      "Feature: 6, Score: 0.00117\n",
      "Feature: 7, Score: 0.00119\n",
      "Feature: 8, Score: 0.00149\n",
      "Feature: 9, Score: 0.00151\n",
      "Feature: 10, Score: 0.02580\n",
      "Feature: 11, Score: 0.00084\n",
      "Feature: 12, Score: 0.00109\n",
      "Feature: 13, Score: 0.52897\n"
     ]
    },
    {
     "data": {
      "image/png": "[encoded data removed]",
      "text/plain": [
       "<Figure size 432x288 with 1 Axes>"
      ]
     },
     "metadata": {
      "needs_background": "light"
     },
     "output_type": "display_data"
    }
   ],
   "source": [
    "#Decision Tree Feature Importance\n",
    "from sklearn.datasets import make_regression\n",
    "from sklearn.tree import DecisionTreeRegressor\n",
    "from matplotlib import pyplot\n",
    "# define dataset\n",
    "x, y = make_regression(n_samples=4024, n_features=14, n_informative=5, random_state=1)\n",
    "# define the model\n",
    "model = DecisionTreeRegressor()\n",
    "# fit the model\n",
    "model.fit(x, y)\n",
    "# get importance\n",
    "importance = model.feature_importances_\n",
    "# summarize feature importance\n",
    "for i,v in enumerate(importance):\n",
    "\tprint('Feature: %0d, Score: %.5f' % (i,v))\n",
    "# plot feature importance\n",
    "pyplot.bar([x for x in range(len(importance))], importance)\n",
    "pyplot.show()"
   ]
  },
  {
   "cell_type": "markdown",
   "id": "f932d833",
   "metadata": {},
   "source": [
    "# decision tree for feature importance on a classification problem"
   ]
  },
  {
   "cell_type": "code",
   "execution_count": 19,
   "id": "8ab15448-92ee-44a2-b1b9-cd068afaefde",
   "metadata": {},
   "outputs": [
    {
     "name": "stdout",
     "output_type": "stream",
     "text": [
      "Feature: 0, Score: 0.01297\n",
      "Feature: 1, Score: 0.10941\n",
      "Feature: 2, Score: 0.01377\n",
      "Feature: 3, Score: 0.10518\n",
      "Feature: 4, Score: 0.10790\n",
      "Feature: 5, Score: 0.02226\n",
      "Feature: 6, Score: 0.06039\n",
      "Feature: 7, Score: 0.02159\n",
      "Feature: 8, Score: 0.00894\n",
      "Feature: 9, Score: 0.00911\n",
      "Feature: 10, Score: 0.01155\n",
      "Feature: 11, Score: 0.28013\n",
      "Feature: 12, Score: 0.22150\n",
      "Feature: 13, Score: 0.01529\n"
     ]
    },
    {
     "data": {
      "image/png": "[encoded data removed]",
      "text/plain": [
       "<Figure size 432x288 with 1 Axes>"
      ]
     },
     "metadata": {
      "needs_background": "light"
     },
     "output_type": "display_data"
    }
   ],
   "source": [
    "# decision tree for feature importance on a classification problem\n",
    "from sklearn.datasets import make_classification\n",
    "from sklearn.tree import DecisionTreeClassifier\n",
    "from matplotlib import pyplot\n",
    "# define dataset\n",
    "x, y = make_classification(n_samples=4024, n_features=14, n_informative=5, random_state=1)\n",
    "# define the model\n",
    "model = DecisionTreeClassifier()\n",
    "# fit the model\n",
    "model.fit(x, y)\n",
    "# get importance\n",
    "importance = model.feature_importances_\n",
    "# summarize feature importance\n",
    "for i,v in enumerate(importance):\n",
    "\tprint('Feature: %0d, Score: %.5f' % (i,v))\n",
    "# plot feature importance\n",
    "pyplot.bar([x for x in range(len(importance))], importance)\n",
    "pyplot.show()"
   ]
  },
  {
   "cell_type": "markdown",
   "id": "c430d79b",
   "metadata": {},
   "source": [
    "# permutation feature importance with knn for classification"
   ]
  },
  {
   "cell_type": "code",
   "execution_count": 20,
   "id": "927c5b0e-2807-459f-b32c-82b259e13120",
   "metadata": {},
   "outputs": [
    {
     "name": "stdout",
     "output_type": "stream",
     "text": [
      "Feature: 0, Score: 0.01019\n",
      "Feature: 1, Score: 0.06685\n",
      "Feature: 2, Score: 0.00328\n",
      "Feature: 3, Score: 0.04200\n",
      "Feature: 4, Score: 0.03956\n",
      "Feature: 5, Score: 0.00368\n",
      "Feature: 6, Score: 0.04707\n",
      "Feature: 7, Score: 0.08171\n",
      "Feature: 8, Score: 0.04354\n",
      "Feature: 9, Score: 0.07232\n",
      "Feature: 10, Score: 0.00293\n",
      "Feature: 11, Score: 0.00586\n",
      "Feature: 12, Score: 0.05611\n",
      "Feature: 13, Score: 0.01859\n"
     ]
    },
    {
     "data": {
      "image/png": "[encoded data removed]",
      "text/plain": [
       "<Figure size 432x288 with 1 Axes>"
      ]
     },
     "metadata": {
      "needs_background": "light"
     },
     "output_type": "display_data"
    }
   ],
   "source": [
    "# permutation feature importance with knn for classification\n",
    "from sklearn.datasets import make_classification\n",
    "from sklearn.neighbors import KNeighborsClassifier\n",
    "from sklearn.inspection import permutation_importance\n",
    "from matplotlib import pyplot\n",
    "# define dataset\n",
    "x, y = make_classification(n_samples=4024, n_features=14, n_informative=5, n_redundant=5, random_state=1)\n",
    "# define the model\n",
    "model = KNeighborsClassifier()\n",
    "# fit the model\n",
    "model.fit(x, y)\n",
    "# perform permutation importance\n",
    "results = permutation_importance(model, x, y, scoring='accuracy')\n",
    "# get importance\n",
    "importance = results.importances_mean\n",
    "# summarize feature importance\n",
    "for i,v in enumerate(importance):\n",
    "\tprint('Feature: %0d, Score: %.5f' % (i,v))\n",
    "# plot feature importance\n",
    "pyplot.bar([x for x in range(len(importance))], importance)\n",
    "pyplot.show()"
   ]
  },
  {
   "cell_type": "markdown",
   "id": "bec60f08",
   "metadata": {},
   "source": [
    "# permutation feature importance with knn for regression"
   ]
  },
  {
   "cell_type": "code",
   "execution_count": 21,
   "id": "3cd12804-531b-4d61-8217-71def438caa2",
   "metadata": {},
   "outputs": [
    {
     "name": "stdout",
     "output_type": "stream",
     "text": [
      "Feature: 0, Score: 46.85922\n",
      "Feature: 1, Score: 31.63219\n",
      "Feature: 2, Score: 62.56392\n",
      "Feature: 3, Score: 6355.23088\n",
      "Feature: 4, Score: 448.51049\n",
      "Feature: 5, Score: 109.21051\n",
      "Feature: 6, Score: 29.60157\n",
      "Feature: 7, Score: 64.61818\n",
      "Feature: 8, Score: 81.44292\n",
      "Feature: 9, Score: 102.38673\n",
      "Feature: 10, Score: 500.36270\n",
      "Feature: 11, Score: 66.27093\n",
      "Feature: 12, Score: 91.22507\n",
      "Feature: 13, Score: 7831.98209\n"
     ]
    },
    {
     "data": {
      "image/png": "[encoded data removed]",
      "text/plain": [
       "<Figure size 432x288 with 1 Axes>"
      ]
     },
     "metadata": {
      "needs_background": "light"
     },
     "output_type": "display_data"
    }
   ],
   "source": [
    "# permutation feature importance with knn for regression\n",
    "from sklearn.datasets import make_regression\n",
    "from sklearn.neighbors import KNeighborsRegressor\n",
    "from sklearn.inspection import permutation_importance\n",
    "from matplotlib import pyplot\n",
    "# define dataset\n",
    "x, y = make_regression(n_samples=4024, n_features=14, n_informative=5, random_state=1)\n",
    "# define the model\n",
    "model = KNeighborsRegressor()\n",
    "# fit the model\n",
    "model.fit(x, y)\n",
    "# perform permutation importance\n",
    "results = permutation_importance(model, x, y, scoring='neg_mean_squared_error')\n",
    "# get importance\n",
    "importance = results.importances_mean\n",
    "# summarize feature importance\n",
    "for i,v in enumerate(importance):\n",
    "\tprint('Feature: %0d, Score: %.5f' % (i,v))\n",
    "# plot feature importance\n",
    "pyplot.bar([x for x in range(len(importance))], importance)\n",
    "pyplot.show()"
   ]
  },
  {
   "cell_type": "markdown",
   "id": "b45139e8",
   "metadata": {},
   "source": [
    "# Random Forest Classification Feature Importance"
   ]
  },
  {
   "cell_type": "code",
   "execution_count": 22,
   "id": "43886621-f9f2-4fa1-bac0-8e65b01b2e39",
   "metadata": {},
   "outputs": [
    {
     "name": "stdout",
     "output_type": "stream",
     "text": [
      "Feature: 0, Score: 0.07145\n",
      "Feature: 1, Score: 0.10743\n",
      "Feature: 2, Score: 0.01764\n",
      "Feature: 3, Score: 0.07940\n",
      "Feature: 4, Score: 0.09878\n",
      "Feature: 5, Score: 0.01894\n",
      "Feature: 6, Score: 0.05362\n",
      "Feature: 7, Score: 0.13297\n",
      "Feature: 8, Score: 0.12266\n",
      "Feature: 9, Score: 0.14386\n",
      "Feature: 10, Score: 0.01734\n",
      "Feature: 11, Score: 0.02081\n",
      "Feature: 12, Score: 0.05706\n",
      "Feature: 13, Score: 0.05804\n"
     ]
    },
    {
     "data": {
      "image/png": "[encoded data removed]",
      "text/plain": [
       "<Figure size 432x288 with 1 Axes>"
      ]
     },
     "metadata": {
      "needs_background": "light"
     },
     "output_type": "display_data"
    }
   ],
   "source": [
    "#Random Forest Classification Feature Importance\n",
    "from sklearn.datasets import make_classification\n",
    "from sklearn.ensemble import RandomForestClassifier\n",
    "from matplotlib import pyplot\n",
    "# define dataset\n",
    "x, y = make_classification(n_samples=4024, n_features=14, n_informative=5, n_redundant=5, random_state=1)\n",
    "# define the model\n",
    "model = RandomForestClassifier()\n",
    "# fit the model\n",
    "model.fit(x, y)\n",
    "# get importance\n",
    "importance = model.feature_importances_\n",
    "# summarize feature importance\n",
    "for i,v in enumerate(importance):\n",
    "\tprint('Feature: %0d, Score: %.5f' % (i,v))\n",
    "# plot feature importance\n",
    "pyplot.bar([x for x in range(len(importance))], importance)\n",
    "pyplot.show()"
   ]
  },
  {
   "cell_type": "code",
   "execution_count": null,
   "id": "496eb7db",
   "metadata": {},
   "outputs": [],
   "source": []
  },
  {
   "cell_type": "code",
   "execution_count": 23,
   "id": "c3779a53-c4a0-4a33-9be3-ba8237a7d63d",
   "metadata": {
    "tags": []
   },
   "outputs": [
    {
     "data": {
      "text/plain": [
       "\"import xgboost as xgb\\nfrom xgboost import XGBClassifier\\nfrom boruta import BorutaPy\\nfrom sklearn import metrics\\n\\nxgbfs = xgb.XGBClassifier()\\nfeat_selector = BorutaPy(xgbfs, n_estimators ='auto', verbose = 2, random_state = 2)\\nfeat_selector.fit(x,y)\\nfeat_selector.support_\\n\\nfeat_selector.ranking_\\n\\nxtrain_filtered = feat_selector.transform(x)\\nxtrain_filtered.shape\\n\\nfeature_ranks = list(zip(df.columns, feat_selector.ranking_, feat_selector.support_))\\nfeature_ranks\""
      ]
     },
     "execution_count": 23,
     "metadata": {},
     "output_type": "execute_result"
    }
   ],
   "source": [
    "'''import xgboost as xgb\n",
    "from xgboost import XGBClassifier\n",
    "from boruta import BorutaPy\n",
    "from sklearn import metrics\n",
    "\n",
    "xgbfs = xgb.XGBClassifier()\n",
    "feat_selector = BorutaPy(xgbfs, n_estimators ='auto', verbose = 2, random_state = 2)\n",
    "feat_selector.fit(x,y)\n",
    "feat_selector.support_\n",
    "\n",
    "feat_selector.ranking_\n",
    "\n",
    "xtrain_filtered = feat_selector.transform(x)\n",
    "xtrain_filtered.shape\n",
    "\n",
    "feature_ranks = list(zip(df.columns, feat_selector.ranking_, feat_selector.support_))\n",
    "feature_ranks'''"
   ]
  },
  {
   "cell_type": "markdown",
   "id": "fe3fb12c",
   "metadata": {},
   "source": [
    "# Boruta RandomForestClassifier feature_ranks"
   ]
  },
  {
   "cell_type": "code",
   "execution_count": 24,
   "id": "e82d1e51-03ee-4c46-987f-6601b687f4c3",
   "metadata": {
    "tags": []
   },
   "outputs": [
    {
     "name": "stdout",
     "output_type": "stream",
     "text": [
      "Iteration: \t1 / 100\n",
      "Confirmed: \t0\n",
      "Tentative: \t14\n",
      "Rejected: \t0\n",
      "Iteration: \t2 / 100\n",
      "Confirmed: \t0\n",
      "Tentative: \t14\n",
      "Rejected: \t0\n",
      "Iteration: \t3 / 100\n",
      "Confirmed: \t0\n",
      "Tentative: \t14\n",
      "Rejected: \t0\n",
      "Iteration: \t4 / 100\n",
      "Confirmed: \t0\n",
      "Tentative: \t14\n",
      "Rejected: \t0\n",
      "Iteration: \t5 / 100\n",
      "Confirmed: \t0\n",
      "Tentative: \t14\n",
      "Rejected: \t0\n",
      "Iteration: \t6 / 100\n",
      "Confirmed: \t0\n",
      "Tentative: \t14\n",
      "Rejected: \t0\n",
      "Iteration: \t7 / 100\n",
      "Confirmed: \t0\n",
      "Tentative: \t14\n",
      "Rejected: \t0\n",
      "Iteration: \t8 / 100\n",
      "Confirmed: \t10\n",
      "Tentative: \t1\n",
      "Rejected: \t3\n",
      "Iteration: \t9 / 100\n",
      "Confirmed: \t10\n",
      "Tentative: \t1\n",
      "Rejected: \t3\n",
      "Iteration: \t10 / 100\n",
      "Confirmed: \t10\n",
      "Tentative: \t1\n",
      "Rejected: \t3\n",
      "Iteration: \t11 / 100\n",
      "Confirmed: \t10\n",
      "Tentative: \t1\n",
      "Rejected: \t3\n",
      "Iteration: \t12 / 100\n",
      "Confirmed: \t10\n",
      "Tentative: \t1\n",
      "Rejected: \t3\n",
      "Iteration: \t13 / 100\n",
      "Confirmed: \t10\n",
      "Tentative: \t1\n",
      "Rejected: \t3\n",
      "Iteration: \t14 / 100\n",
      "Confirmed: \t10\n",
      "Tentative: \t1\n",
      "Rejected: \t3\n",
      "Iteration: \t15 / 100\n",
      "Confirmed: \t10\n",
      "Tentative: \t1\n",
      "Rejected: \t3\n",
      "Iteration: \t16 / 100\n",
      "Confirmed: \t10\n",
      "Tentative: \t1\n",
      "Rejected: \t3\n",
      "Iteration: \t17 / 100\n",
      "Confirmed: \t10\n",
      "Tentative: \t1\n",
      "Rejected: \t3\n",
      "Iteration: \t18 / 100\n",
      "Confirmed: \t10\n",
      "Tentative: \t1\n",
      "Rejected: \t3\n",
      "Iteration: \t19 / 100\n",
      "Confirmed: \t10\n",
      "Tentative: \t0\n",
      "Rejected: \t4\n",
      "\n",
      "\n",
      "BorutaPy finished running.\n",
      "\n",
      "Iteration: \t20 / 100\n",
      "Confirmed: \t10\n",
      "Tentative: \t0\n",
      "Rejected: \t4\n"
     ]
    },
    {
     "data": {
      "text/plain": [
       "[('Age', 1, True),\n",
       " ('Race', 1, True),\n",
       " ('Marital Status', 3, False),\n",
       " ('T Stage', 1, True),\n",
       " ('N Stage', 1, True),\n",
       " ('6th Stage', 5, False),\n",
       " ('Grade', 1, True),\n",
       " ('A Stage', 1, True),\n",
       " ('Tumor Size', 1, True),\n",
       " ('Estrogen Status', 1, True),\n",
       " ('Progesterone Status', 3, False),\n",
       " ('Regional Node Examined', 2, False),\n",
       " ('Reginol Node Positive', 1, True),\n",
       " ('Survival Months', 1, True)]"
      ]
     },
     "execution_count": 24,
     "metadata": {},
     "output_type": "execute_result"
    }
   ],
   "source": [
    "from boruta import BorutaPy\n",
    "rffs = RandomForestClassifier(n_jobs=-1, class_weight='balanced', max_depth=5)\n",
    "rffs.fit(x,y)\n",
    "feat_selector = BorutaPy(rffs, n_estimators ='auto', verbose = 2, random_state = 2)\n",
    "feat_selector.fit(x,y)\n",
    "feat_selector.support_\n",
    "\n",
    "feat_selector.ranking_\n",
    "\n",
    "xtrain_filtered = feat_selector.transform(x)\n",
    "xtrain_filtered.shape\n",
    "\n",
    "feature_ranks = list(zip(df.columns, feat_selector.ranking_, feat_selector.support_))\n",
    "feature_ranks"
   ]
  },
  {
   "cell_type": "markdown",
   "id": "ac11fcc6",
   "metadata": {},
   "source": [
    "# ExtraTreesClassifier feature_importance"
   ]
  },
  {
   "cell_type": "code",
   "execution_count": 25,
   "id": "0cdc1f0e-5257-464f-b129-67da09e8b96d",
   "metadata": {},
   "outputs": [
    {
     "data": {
      "text/html": [
       "<div>\n",
       "<style scoped>\n",
       "    .dataframe tbody tr th:only-of-type {\n",
       "        vertical-align: middle;\n",
       "    }\n",
       "\n",
       "    .dataframe tbody tr th {\n",
       "        vertical-align: top;\n",
       "    }\n",
       "\n",
       "    .dataframe thead th {\n",
       "        text-align: right;\n",
       "    }\n",
       "</style>\n",
       "<table border=\"1\" class=\"dataframe\">\n",
       "  <thead>\n",
       "    <tr style=\"text-align: right;\">\n",
       "      <th></th>\n",
       "      <th>Features</th>\n",
       "      <th>Gain Score</th>\n",
       "    </tr>\n",
       "  </thead>\n",
       "  <tbody>\n",
       "    <tr>\n",
       "      <th>0</th>\n",
       "      <td>Age</td>\n",
       "      <td>0.083093</td>\n",
       "    </tr>\n",
       "    <tr>\n",
       "      <th>1</th>\n",
       "      <td>Race</td>\n",
       "      <td>0.099016</td>\n",
       "    </tr>\n",
       "    <tr>\n",
       "      <th>2</th>\n",
       "      <td>Marital Status</td>\n",
       "      <td>0.022025</td>\n",
       "    </tr>\n",
       "    <tr>\n",
       "      <th>3</th>\n",
       "      <td>T Stage</td>\n",
       "      <td>0.080582</td>\n",
       "    </tr>\n",
       "    <tr>\n",
       "      <th>4</th>\n",
       "      <td>N Stage</td>\n",
       "      <td>0.103810</td>\n",
       "    </tr>\n",
       "    <tr>\n",
       "      <th>5</th>\n",
       "      <td>6th Stage</td>\n",
       "      <td>0.022370</td>\n",
       "    </tr>\n",
       "    <tr>\n",
       "      <th>6</th>\n",
       "      <td>Grade</td>\n",
       "      <td>0.063072</td>\n",
       "    </tr>\n",
       "    <tr>\n",
       "      <th>7</th>\n",
       "      <td>A Stage</td>\n",
       "      <td>0.133610</td>\n",
       "    </tr>\n",
       "    <tr>\n",
       "      <th>8</th>\n",
       "      <td>Tumor Size</td>\n",
       "      <td>0.115224</td>\n",
       "    </tr>\n",
       "    <tr>\n",
       "      <th>9</th>\n",
       "      <td>Estrogen Status</td>\n",
       "      <td>0.119530</td>\n",
       "    </tr>\n",
       "    <tr>\n",
       "      <th>10</th>\n",
       "      <td>Progesterone Status</td>\n",
       "      <td>0.021379</td>\n",
       "    </tr>\n",
       "    <tr>\n",
       "      <th>11</th>\n",
       "      <td>Regional Node Examined</td>\n",
       "      <td>0.023513</td>\n",
       "    </tr>\n",
       "    <tr>\n",
       "      <th>12</th>\n",
       "      <td>Reginol Node Positive</td>\n",
       "      <td>0.057947</td>\n",
       "    </tr>\n",
       "    <tr>\n",
       "      <th>13</th>\n",
       "      <td>Survival Months</td>\n",
       "      <td>0.054829</td>\n",
       "    </tr>\n",
       "    <tr>\n",
       "      <th>14</th>\n",
       "      <td>Status</td>\n",
       "      <td>NaN</td>\n",
       "    </tr>\n",
       "  </tbody>\n",
       "</table>\n",
       "</div>"
      ],
      "text/plain": [
       "                  Features  Gain Score\n",
       "0                      Age    0.083093\n",
       "1                     Race    0.099016\n",
       "2           Marital Status    0.022025\n",
       "3                  T Stage    0.080582\n",
       "4                  N Stage    0.103810\n",
       "5                6th Stage    0.022370\n",
       "6                    Grade    0.063072\n",
       "7                  A Stage    0.133610\n",
       "8               Tumor Size    0.115224\n",
       "9          Estrogen Status    0.119530\n",
       "10     Progesterone Status    0.021379\n",
       "11  Regional Node Examined    0.023513\n",
       "12   Reginol Node Positive    0.057947\n",
       "13         Survival Months    0.054829\n",
       "14                  Status         NaN"
      ]
     },
     "execution_count": 25,
     "metadata": {},
     "output_type": "execute_result"
    }
   ],
   "source": [
    "from sklearn.ensemble import ExtraTreesClassifier\n",
    "\n",
    "extr = ExtraTreesClassifier()\n",
    "\n",
    "extr.fit(x,y)\n",
    "\n",
    "feature_importance = extr.feature_importances_\n",
    "feature_importance\n",
    "\n",
    "imp = pd.DataFrame(feature_importance, columns = ['Gain Score'])\n",
    "cols = pd.DataFrame(df.columns, columns = ['Features'])\n",
    "imp,cols\n",
    "frame = pd.concat([cols,imp], axis=1)\n",
    "frame"
   ]
  },
  {
   "cell_type": "markdown",
   "id": "a4f21ac9-9a27-4b89-89de-033e311271a5",
   "metadata": {},
   "source": [
    "**Work with selected features**"
   ]
  },
  {
   "cell_type": "code",
   "execution_count": 26,
   "id": "97a8a45f-0a10-40b9-9ac9-35bb87e71bfd",
   "metadata": {
    "tags": []
   },
   "outputs": [
    {
     "data": {
      "text/html": [
       "<div>\n",
       "<style scoped>\n",
       "    .dataframe tbody tr th:only-of-type {\n",
       "        vertical-align: middle;\n",
       "    }\n",
       "\n",
       "    .dataframe tbody tr th {\n",
       "        vertical-align: top;\n",
       "    }\n",
       "\n",
       "    .dataframe thead th {\n",
       "        text-align: right;\n",
       "    }\n",
       "</style>\n",
       "<table border=\"1\" class=\"dataframe\">\n",
       "  <thead>\n",
       "    <tr style=\"text-align: right;\">\n",
       "      <th></th>\n",
       "      <th>Race</th>\n",
       "      <th>T Stage</th>\n",
       "      <th>N Stage</th>\n",
       "      <th>Grade</th>\n",
       "      <th>A Stage</th>\n",
       "      <th>Tumor Size</th>\n",
       "      <th>Estrogen Status</th>\n",
       "      <th>Survival Months</th>\n",
       "      <th>Status</th>\n",
       "    </tr>\n",
       "  </thead>\n",
       "  <tbody>\n",
       "    <tr>\n",
       "      <th>0</th>\n",
       "      <td>Other (American Indian/AK Native, Asian/Pacifi...</td>\n",
       "      <td>T2</td>\n",
       "      <td>N3</td>\n",
       "      <td>Moderately differentiated; Grade II</td>\n",
       "      <td>Regional</td>\n",
       "      <td>40</td>\n",
       "      <td>Positive</td>\n",
       "      <td>1</td>\n",
       "      <td>Alive</td>\n",
       "    </tr>\n",
       "    <tr>\n",
       "      <th>1</th>\n",
       "      <td>Other (American Indian/AK Native, Asian/Pacifi...</td>\n",
       "      <td>T2</td>\n",
       "      <td>N2</td>\n",
       "      <td>Moderately differentiated; Grade II</td>\n",
       "      <td>Regional</td>\n",
       "      <td>45</td>\n",
       "      <td>Positive</td>\n",
       "      <td>2</td>\n",
       "      <td>Alive</td>\n",
       "    </tr>\n",
       "    <tr>\n",
       "      <th>2</th>\n",
       "      <td>White</td>\n",
       "      <td>T2</td>\n",
       "      <td>N1</td>\n",
       "      <td>Poorly differentiated; Grade III</td>\n",
       "      <td>Regional</td>\n",
       "      <td>25</td>\n",
       "      <td>Positive</td>\n",
       "      <td>2</td>\n",
       "      <td>Dead</td>\n",
       "    </tr>\n",
       "    <tr>\n",
       "      <th>3</th>\n",
       "      <td>White</td>\n",
       "      <td>T1</td>\n",
       "      <td>N1</td>\n",
       "      <td>Moderately differentiated; Grade II</td>\n",
       "      <td>Regional</td>\n",
       "      <td>19</td>\n",
       "      <td>Positive</td>\n",
       "      <td>2</td>\n",
       "      <td>Dead</td>\n",
       "    </tr>\n",
       "    <tr>\n",
       "      <th>4</th>\n",
       "      <td>White</td>\n",
       "      <td>T2</td>\n",
       "      <td>N2</td>\n",
       "      <td>Moderately differentiated; Grade II</td>\n",
       "      <td>Regional</td>\n",
       "      <td>35</td>\n",
       "      <td>Positive</td>\n",
       "      <td>3</td>\n",
       "      <td>Dead</td>\n",
       "    </tr>\n",
       "    <tr>\n",
       "      <th>...</th>\n",
       "      <td>...</td>\n",
       "      <td>...</td>\n",
       "      <td>...</td>\n",
       "      <td>...</td>\n",
       "      <td>...</td>\n",
       "      <td>...</td>\n",
       "      <td>...</td>\n",
       "      <td>...</td>\n",
       "      <td>...</td>\n",
       "    </tr>\n",
       "    <tr>\n",
       "      <th>4019</th>\n",
       "      <td>White</td>\n",
       "      <td>T1</td>\n",
       "      <td>N1</td>\n",
       "      <td>Well differentiated; Grade I</td>\n",
       "      <td>Regional</td>\n",
       "      <td>10</td>\n",
       "      <td>Positive</td>\n",
       "      <td>107</td>\n",
       "      <td>Alive</td>\n",
       "    </tr>\n",
       "    <tr>\n",
       "      <th>4020</th>\n",
       "      <td>White</td>\n",
       "      <td>T1</td>\n",
       "      <td>N2</td>\n",
       "      <td>Poorly differentiated; Grade III</td>\n",
       "      <td>Regional</td>\n",
       "      <td>9</td>\n",
       "      <td>Negative</td>\n",
       "      <td>107</td>\n",
       "      <td>Alive</td>\n",
       "    </tr>\n",
       "    <tr>\n",
       "      <th>4021</th>\n",
       "      <td>White</td>\n",
       "      <td>T1</td>\n",
       "      <td>N1</td>\n",
       "      <td>Moderately differentiated; Grade II</td>\n",
       "      <td>Regional</td>\n",
       "      <td>9</td>\n",
       "      <td>Negative</td>\n",
       "      <td>107</td>\n",
       "      <td>Alive</td>\n",
       "    </tr>\n",
       "    <tr>\n",
       "      <th>4022</th>\n",
       "      <td>Other (American Indian/AK Native, Asian/Pacifi...</td>\n",
       "      <td>T1</td>\n",
       "      <td>N1</td>\n",
       "      <td>Moderately differentiated; Grade II</td>\n",
       "      <td>Regional</td>\n",
       "      <td>9</td>\n",
       "      <td>Positive</td>\n",
       "      <td>107</td>\n",
       "      <td>Alive</td>\n",
       "    </tr>\n",
       "    <tr>\n",
       "      <th>4023</th>\n",
       "      <td>White</td>\n",
       "      <td>T1</td>\n",
       "      <td>N1</td>\n",
       "      <td>Moderately differentiated; Grade II</td>\n",
       "      <td>Regional</td>\n",
       "      <td>8</td>\n",
       "      <td>Positive</td>\n",
       "      <td>107</td>\n",
       "      <td>Alive</td>\n",
       "    </tr>\n",
       "  </tbody>\n",
       "</table>\n",
       "<p>4024 rows × 9 columns</p>\n",
       "</div>"
      ],
      "text/plain": [
       "                                                   Race T Stage N Stage  \\\n",
       "0     Other (American Indian/AK Native, Asian/Pacifi...      T2      N3   \n",
       "1     Other (American Indian/AK Native, Asian/Pacifi...      T2      N2   \n",
       "2                                                 White      T2      N1   \n",
       "3                                                 White      T1      N1   \n",
       "4                                                 White      T2      N2   \n",
       "...                                                 ...     ...     ...   \n",
       "4019                                              White      T1      N1   \n",
       "4020                                              White      T1      N2   \n",
       "4021                                              White      T1      N1   \n",
       "4022  Other (American Indian/AK Native, Asian/Pacifi...      T1      N1   \n",
       "4023                                              White      T1      N1   \n",
       "\n",
       "                                    Grade   A Stage  Tumor Size  \\\n",
       "0     Moderately differentiated; Grade II  Regional          40   \n",
       "1     Moderately differentiated; Grade II  Regional          45   \n",
       "2        Poorly differentiated; Grade III  Regional          25   \n",
       "3     Moderately differentiated; Grade II  Regional          19   \n",
       "4     Moderately differentiated; Grade II  Regional          35   \n",
       "...                                   ...       ...         ...   \n",
       "4019         Well differentiated; Grade I  Regional          10   \n",
       "4020     Poorly differentiated; Grade III  Regional           9   \n",
       "4021  Moderately differentiated; Grade II  Regional           9   \n",
       "4022  Moderately differentiated; Grade II  Regional           9   \n",
       "4023  Moderately differentiated; Grade II  Regional           8   \n",
       "\n",
       "     Estrogen Status  Survival Months Status  \n",
       "0           Positive                1  Alive  \n",
       "1           Positive                2  Alive  \n",
       "2           Positive                2   Dead  \n",
       "3           Positive                2   Dead  \n",
       "4           Positive                3   Dead  \n",
       "...              ...              ...    ...  \n",
       "4019        Positive              107  Alive  \n",
       "4020        Negative              107  Alive  \n",
       "4021        Negative              107  Alive  \n",
       "4022        Positive              107  Alive  \n",
       "4023        Positive              107  Alive  \n",
       "\n",
       "[4024 rows x 9 columns]"
      ]
     },
     "execution_count": 26,
     "metadata": {},
     "output_type": "execute_result"
    }
   ],
   "source": [
    "df01 = pd.read_csv(\"F:\\\\Research\\Breast Cancer\\\\Breast Cancer - Selected Features.csv\")\n",
    "df01"
   ]
  },
  {
   "cell_type": "code",
   "execution_count": 27,
   "id": "4b565206-eda4-4e11-81ae-4714de657110",
   "metadata": {
    "tags": []
   },
   "outputs": [
    {
     "data": {
      "text/html": [
       "<div>\n",
       "<style scoped>\n",
       "    .dataframe tbody tr th:only-of-type {\n",
       "        vertical-align: middle;\n",
       "    }\n",
       "\n",
       "    .dataframe tbody tr th {\n",
       "        vertical-align: top;\n",
       "    }\n",
       "\n",
       "    .dataframe thead th {\n",
       "        text-align: right;\n",
       "    }\n",
       "</style>\n",
       "<table border=\"1\" class=\"dataframe\">\n",
       "  <thead>\n",
       "    <tr style=\"text-align: right;\">\n",
       "      <th></th>\n",
       "      <th>Race</th>\n",
       "      <th>T Stage</th>\n",
       "      <th>N Stage</th>\n",
       "      <th>Grade</th>\n",
       "      <th>A Stage</th>\n",
       "      <th>Tumor Size</th>\n",
       "      <th>Estrogen Status</th>\n",
       "      <th>Survival Months</th>\n",
       "      <th>Status</th>\n",
       "    </tr>\n",
       "  </thead>\n",
       "  <tbody>\n",
       "    <tr>\n",
       "      <th>0</th>\n",
       "      <td>1</td>\n",
       "      <td>1</td>\n",
       "      <td>2</td>\n",
       "      <td>0</td>\n",
       "      <td>1</td>\n",
       "      <td>39</td>\n",
       "      <td>1</td>\n",
       "      <td>0</td>\n",
       "      <td>0</td>\n",
       "    </tr>\n",
       "    <tr>\n",
       "      <th>1</th>\n",
       "      <td>1</td>\n",
       "      <td>1</td>\n",
       "      <td>1</td>\n",
       "      <td>0</td>\n",
       "      <td>1</td>\n",
       "      <td>44</td>\n",
       "      <td>1</td>\n",
       "      <td>1</td>\n",
       "      <td>0</td>\n",
       "    </tr>\n",
       "    <tr>\n",
       "      <th>2</th>\n",
       "      <td>2</td>\n",
       "      <td>1</td>\n",
       "      <td>0</td>\n",
       "      <td>1</td>\n",
       "      <td>1</td>\n",
       "      <td>24</td>\n",
       "      <td>1</td>\n",
       "      <td>1</td>\n",
       "      <td>1</td>\n",
       "    </tr>\n",
       "    <tr>\n",
       "      <th>3</th>\n",
       "      <td>2</td>\n",
       "      <td>0</td>\n",
       "      <td>0</td>\n",
       "      <td>0</td>\n",
       "      <td>1</td>\n",
       "      <td>18</td>\n",
       "      <td>1</td>\n",
       "      <td>1</td>\n",
       "      <td>1</td>\n",
       "    </tr>\n",
       "    <tr>\n",
       "      <th>4</th>\n",
       "      <td>2</td>\n",
       "      <td>1</td>\n",
       "      <td>1</td>\n",
       "      <td>0</td>\n",
       "      <td>1</td>\n",
       "      <td>34</td>\n",
       "      <td>1</td>\n",
       "      <td>2</td>\n",
       "      <td>1</td>\n",
       "    </tr>\n",
       "    <tr>\n",
       "      <th>...</th>\n",
       "      <td>...</td>\n",
       "      <td>...</td>\n",
       "      <td>...</td>\n",
       "      <td>...</td>\n",
       "      <td>...</td>\n",
       "      <td>...</td>\n",
       "      <td>...</td>\n",
       "      <td>...</td>\n",
       "      <td>...</td>\n",
       "    </tr>\n",
       "    <tr>\n",
       "      <th>4019</th>\n",
       "      <td>2</td>\n",
       "      <td>0</td>\n",
       "      <td>0</td>\n",
       "      <td>3</td>\n",
       "      <td>1</td>\n",
       "      <td>9</td>\n",
       "      <td>1</td>\n",
       "      <td>106</td>\n",
       "      <td>0</td>\n",
       "    </tr>\n",
       "    <tr>\n",
       "      <th>4020</th>\n",
       "      <td>2</td>\n",
       "      <td>0</td>\n",
       "      <td>1</td>\n",
       "      <td>1</td>\n",
       "      <td>1</td>\n",
       "      <td>8</td>\n",
       "      <td>0</td>\n",
       "      <td>106</td>\n",
       "      <td>0</td>\n",
       "    </tr>\n",
       "    <tr>\n",
       "      <th>4021</th>\n",
       "      <td>2</td>\n",
       "      <td>0</td>\n",
       "      <td>0</td>\n",
       "      <td>0</td>\n",
       "      <td>1</td>\n",
       "      <td>8</td>\n",
       "      <td>0</td>\n",
       "      <td>106</td>\n",
       "      <td>0</td>\n",
       "    </tr>\n",
       "    <tr>\n",
       "      <th>4022</th>\n",
       "      <td>1</td>\n",
       "      <td>0</td>\n",
       "      <td>0</td>\n",
       "      <td>0</td>\n",
       "      <td>1</td>\n",
       "      <td>8</td>\n",
       "      <td>1</td>\n",
       "      <td>106</td>\n",
       "      <td>0</td>\n",
       "    </tr>\n",
       "    <tr>\n",
       "      <th>4023</th>\n",
       "      <td>2</td>\n",
       "      <td>0</td>\n",
       "      <td>0</td>\n",
       "      <td>0</td>\n",
       "      <td>1</td>\n",
       "      <td>7</td>\n",
       "      <td>1</td>\n",
       "      <td>106</td>\n",
       "      <td>0</td>\n",
       "    </tr>\n",
       "  </tbody>\n",
       "</table>\n",
       "<p>4024 rows × 9 columns</p>\n",
       "</div>"
      ],
      "text/plain": [
       "      Race  T Stage  N Stage  Grade  A Stage  Tumor Size  Estrogen Status  \\\n",
       "0        1        1        2      0        1          39                1   \n",
       "1        1        1        1      0        1          44                1   \n",
       "2        2        1        0      1        1          24                1   \n",
       "3        2        0        0      0        1          18                1   \n",
       "4        2        1        1      0        1          34                1   \n",
       "...    ...      ...      ...    ...      ...         ...              ...   \n",
       "4019     2        0        0      3        1           9                1   \n",
       "4020     2        0        1      1        1           8                0   \n",
       "4021     2        0        0      0        1           8                0   \n",
       "4022     1        0        0      0        1           8                1   \n",
       "4023     2        0        0      0        1           7                1   \n",
       "\n",
       "      Survival Months  Status  \n",
       "0                   0       0  \n",
       "1                   1       0  \n",
       "2                   1       1  \n",
       "3                   1       1  \n",
       "4                   2       1  \n",
       "...               ...     ...  \n",
       "4019              106       0  \n",
       "4020              106       0  \n",
       "4021              106       0  \n",
       "4022              106       0  \n",
       "4023              106       0  \n",
       "\n",
       "[4024 rows x 9 columns]"
      ]
     },
     "execution_count": 27,
     "metadata": {},
     "output_type": "execute_result"
    }
   ],
   "source": [
    "df01 = df01.apply(LabelEncoder().fit_transform)\n",
    "df01"
   ]
  },
  {
   "cell_type": "code",
   "execution_count": 28,
   "id": "2935d206-83b2-4bd2-8c5d-0d0d556c5547",
   "metadata": {},
   "outputs": [],
   "source": [
    "filtered_x = df01.drop(['Status'],axis =1)\n",
    "filtered_y = df01['Status']"
   ]
  },
  {
   "cell_type": "code",
   "execution_count": 29,
   "id": "67bcc707-9b25-47e2-8f53-ab8137d58830",
   "metadata": {
    "tags": []
   },
   "outputs": [
    {
     "data": {
      "text/plain": [
       "array([[-1.3746487 ,  0.28115846,  2.25215674, ...,  0.48371507,\n",
       "         0.26765242, -3.06729118],\n",
       "       [-1.3746487 ,  0.28115846,  0.80997362, ...,  0.73117489,\n",
       "         0.26765242, -3.02365846],\n",
       "       [ 0.39715987,  0.28115846, -0.6322095 , ..., -0.25866439,\n",
       "         0.26765242, -3.02365846],\n",
       "       ...,\n",
       "       [ 0.39715987, -1.02528685, -0.6322095 , ..., -1.05053581,\n",
       "        -3.73618894,  1.55777696],\n",
       "       [-1.3746487 , -1.02528685, -0.6322095 , ..., -1.05053581,\n",
       "         0.26765242,  1.55777696],\n",
       "       [ 0.39715987, -1.02528685, -0.6322095 , ..., -1.10002778,\n",
       "         0.26765242,  1.55777696]])"
      ]
     },
     "execution_count": 29,
     "metadata": {},
     "output_type": "execute_result"
    }
   ],
   "source": [
    "standardScaler = StandardScaler()\n",
    "new_x = standardScaler.fit_transform(filtered_x)\n",
    "new_x"
   ]
  },
  {
   "cell_type": "code",
   "execution_count": 30,
   "id": "23d742f1-34a0-4c11-ba15-2fb1719f7c01",
   "metadata": {
    "tags": []
   },
   "outputs": [
    {
     "data": {
      "text/html": [
       "<div>\n",
       "<style scoped>\n",
       "    .dataframe tbody tr th:only-of-type {\n",
       "        vertical-align: middle;\n",
       "    }\n",
       "\n",
       "    .dataframe tbody tr th {\n",
       "        vertical-align: top;\n",
       "    }\n",
       "\n",
       "    .dataframe thead th {\n",
       "        text-align: right;\n",
       "    }\n",
       "</style>\n",
       "<table border=\"1\" class=\"dataframe\">\n",
       "  <thead>\n",
       "    <tr style=\"text-align: right;\">\n",
       "      <th></th>\n",
       "      <th>Race</th>\n",
       "      <th>T Stage</th>\n",
       "      <th>N Stage</th>\n",
       "      <th>Grade</th>\n",
       "      <th>A Stage</th>\n",
       "      <th>Tumor Size</th>\n",
       "      <th>Estrogen Status</th>\n",
       "      <th>Survival Months</th>\n",
       "    </tr>\n",
       "  </thead>\n",
       "  <tbody>\n",
       "    <tr>\n",
       "      <th>0</th>\n",
       "      <td>-1.374649</td>\n",
       "      <td>0.281158</td>\n",
       "      <td>2.252157</td>\n",
       "      <td>-0.679291</td>\n",
       "      <td>0.152963</td>\n",
       "      <td>0.483715</td>\n",
       "      <td>0.267652</td>\n",
       "      <td>-3.067291</td>\n",
       "    </tr>\n",
       "    <tr>\n",
       "      <th>1</th>\n",
       "      <td>-1.374649</td>\n",
       "      <td>0.281158</td>\n",
       "      <td>0.809974</td>\n",
       "      <td>-0.679291</td>\n",
       "      <td>0.152963</td>\n",
       "      <td>0.731175</td>\n",
       "      <td>0.267652</td>\n",
       "      <td>-3.023658</td>\n",
       "    </tr>\n",
       "    <tr>\n",
       "      <th>2</th>\n",
       "      <td>0.397160</td>\n",
       "      <td>0.281158</td>\n",
       "      <td>-0.632209</td>\n",
       "      <td>0.304678</td>\n",
       "      <td>0.152963</td>\n",
       "      <td>-0.258664</td>\n",
       "      <td>0.267652</td>\n",
       "      <td>-3.023658</td>\n",
       "    </tr>\n",
       "    <tr>\n",
       "      <th>3</th>\n",
       "      <td>0.397160</td>\n",
       "      <td>-1.025287</td>\n",
       "      <td>-0.632209</td>\n",
       "      <td>-0.679291</td>\n",
       "      <td>0.152963</td>\n",
       "      <td>-0.555616</td>\n",
       "      <td>0.267652</td>\n",
       "      <td>-3.023658</td>\n",
       "    </tr>\n",
       "    <tr>\n",
       "      <th>4</th>\n",
       "      <td>0.397160</td>\n",
       "      <td>0.281158</td>\n",
       "      <td>0.809974</td>\n",
       "      <td>-0.679291</td>\n",
       "      <td>0.152963</td>\n",
       "      <td>0.236255</td>\n",
       "      <td>0.267652</td>\n",
       "      <td>-2.980026</td>\n",
       "    </tr>\n",
       "  </tbody>\n",
       "</table>\n",
       "</div>"
      ],
      "text/plain": [
       "       Race   T Stage   N Stage     Grade   A Stage  Tumor Size  \\\n",
       "0 -1.374649  0.281158  2.252157 -0.679291  0.152963    0.483715   \n",
       "1 -1.374649  0.281158  0.809974 -0.679291  0.152963    0.731175   \n",
       "2  0.397160  0.281158 -0.632209  0.304678  0.152963   -0.258664   \n",
       "3  0.397160 -1.025287 -0.632209 -0.679291  0.152963   -0.555616   \n",
       "4  0.397160  0.281158  0.809974 -0.679291  0.152963    0.236255   \n",
       "\n",
       "   Estrogen Status  Survival Months  \n",
       "0         0.267652        -3.067291  \n",
       "1         0.267652        -3.023658  \n",
       "2         0.267652        -3.023658  \n",
       "3         0.267652        -3.023658  \n",
       "4         0.267652        -2.980026  "
      ]
     },
     "execution_count": 30,
     "metadata": {},
     "output_type": "execute_result"
    }
   ],
   "source": [
    "df02 = pd.DataFrame(new_x, columns = filtered_x.columns)\n",
    "df02.head()"
   ]
  },
  {
   "cell_type": "code",
   "execution_count": 31,
   "id": "26b7151a-440e-4ddd-8c92-be9e5b805765",
   "metadata": {
    "tags": []
   },
   "outputs": [
    {
     "data": {
      "text/plain": [
       "<AxesSubplot:>"
      ]
     },
     "execution_count": 31,
     "metadata": {},
     "output_type": "execute_result"
    },
    {
     "data": {
      "image/png": "[encoded data removed]",
      "text/plain": [
       "<Figure size 936x576 with 2 Axes>"
      ]
     },
     "metadata": {
      "needs_background": "light"
     },
     "output_type": "display_data"
    }
   ],
   "source": [
    "plt.figure(figsize=(13,8))\n",
    "feature_corr = filtered_x.columns\n",
    "colname = filtered_x.corr().index\n",
    "sns.heatmap(df[feature_corr].corr(),annot=True)"
   ]
  },
  {
   "cell_type": "code",
   "execution_count": 32,
   "id": "56334911-b2c0-4f01-965d-87cea0d7655e",
   "metadata": {
    "tags": []
   },
   "outputs": [
    {
     "data": {
      "image/png": "[encoded data removed]",
      "text/plain": [
       "<Figure size 1440x1440 with 9 Axes>"
      ]
     },
     "metadata": {
      "needs_background": "light"
     },
     "output_type": "display_data"
    }
   ],
   "source": [
    "df01.hist(figsize=(20,20), bins=50, xlabelsize=8, ylabelsize=8);"
   ]
  },
  {
   "cell_type": "code",
   "execution_count": 33,
   "id": "5a5204db-e08c-47f3-b993-517eb16024b7",
   "metadata": {},
   "outputs": [],
   "source": [
    "xtrain, xtest, ytrain, ytest = train_test_split(new_x, filtered_y, test_size = .20, random_state = 12)"
   ]
  },
  {
   "cell_type": "markdown",
   "id": "b19cd3c9-28ec-4853-8988-76042d4ae3e7",
   "metadata": {},
   "source": [
    "**RandomForestClassifier**"
   ]
  },
  {
   "cell_type": "code",
   "execution_count": 34,
   "id": "20f953da-3f95-4d3d-a420-b8a3ec60d8b7",
   "metadata": {},
   "outputs": [],
   "source": [
    "from sklearn.model_selection import RandomizedSearchCV"
   ]
  },
  {
   "cell_type": "code",
   "execution_count": 35,
   "id": "5f1cc643-d870-4764-88dd-f591fb038723",
   "metadata": {},
   "outputs": [
    {
     "name": "stdout",
     "output_type": "stream",
     "text": [
      "{'n_estimators': [200, 233, 266, 300, 333, 366, 400, 433, 466, 500, 533, 566, 600, 633, 666, 700, 733, 766, 800, 833, 866, 900, 933, 966, 1000], 'max_features': ['auto', 'sqrt', 'log2'], 'max_depth': [200, 294, 389, 484, 578, 673, 768, 863, 957, 1052, 1147, 1242, 1336, 1431, 1526, 1621, 1715, 1810, 1905, 2000], 'min_samples_split': [2, 5, 10, 12, 15, 20], 'min_samples_leaf': [2, 4, 6, 8, 10, 15, 20], 'criterion': ['gini', 'entropy']}\n"
     ]
    }
   ],
   "source": [
    "n_estimators = [int(x) for x in np.linspace(start = 200, stop= 1000, num = 25)]\n",
    "max_features = ['auto','sqrt','log2']\n",
    "max_depth = [int(x) for x in np.linspace(start = 200, stop= 2000, num = 20)]\n",
    "min_samples_split = [2,5,10,12,15,20]\n",
    "min_samples_leaf = [2,4,6,8,10,15,20]\n",
    "#creat ids\n",
    "grids ={\n",
    "    'n_estimators' : n_estimators,\n",
    "    'max_features' : max_features,\n",
    "    'max_depth' : max_depth,\n",
    "    'min_samples_split' : min_samples_split,\n",
    "    'min_samples_leaf' : min_samples_leaf,\n",
    "    'criterion':['gini', 'entropy']\n",
    "}\n",
    "print(grids)"
   ]
  },
  {
   "cell_type": "code",
   "execution_count": 36,
   "id": "4ae561ea-285f-4b1f-9b8f-d138a80c5095",
   "metadata": {},
   "outputs": [],
   "source": [
    "rf=RandomForestClassifier()"
   ]
  },
  {
   "cell_type": "code",
   "execution_count": 37,
   "id": "10071079-7885-4b16-ba69-7dc10bf0a364",
   "metadata": {},
   "outputs": [
    {
     "name": "stdout",
     "output_type": "stream",
     "text": [
      "Fitting 5 folds for each of 200 candidates, totalling 1000 fits\n"
     ]
    },
    {
     "data": {
      "text/plain": [
       "RandomizedSearchCV(cv=5, estimator=RandomForestClassifier(), n_iter=200,\n",
       "                   n_jobs=-1,\n",
       "                   param_distributions={'criterion': ['gini', 'entropy'],\n",
       "                                        'max_depth': [200, 294, 389, 484, 578,\n",
       "                                                      673, 768, 863, 957, 1052,\n",
       "                                                      1147, 1242, 1336, 1431,\n",
       "                                                      1526, 1621, 1715, 1810,\n",
       "                                                      1905, 2000],\n",
       "                                        'max_features': ['auto', 'sqrt',\n",
       "                                                         'log2'],\n",
       "                                        'min_samples_leaf': [2, 4, 6, 8, 10, 15,\n",
       "                                                             20],\n",
       "                                        'min_samples_split': [2, 5, 10, 12, 15,\n",
       "                                                              20],\n",
       "                                        'n_estimators': [200, 233, 266, 300,\n",
       "                                                         333, 366, 400, 433,\n",
       "                                                         466, 500, 533, 566,\n",
       "                                                         600, 633, 666, 700,\n",
       "                                                         733, 766, 800, 833,\n",
       "                                                         866, 900, 933, 966,\n",
       "                                                         1000]},\n",
       "                   random_state=35, verbose=2)"
      ]
     },
     "execution_count": 37,
     "metadata": {},
     "output_type": "execute_result"
    }
   ],
   "source": [
    "rf_random = RandomizedSearchCV(estimator = rf, param_distributions = grids,\n",
    "               n_iter = 200, cv = 5, verbose=2, random_state=35, n_jobs = -1)\n",
    "\n",
    "rf_random.fit(xtrain, ytrain)"
   ]
  },
  {
   "cell_type": "code",
   "execution_count": 38,
   "id": "0eca35e0-045e-485c-a169-c4d36cb54bb2",
   "metadata": {},
   "outputs": [
    {
     "data": {
      "text/plain": [
       "{'n_estimators': 333,\n",
       " 'min_samples_split': 2,\n",
       " 'min_samples_leaf': 15,\n",
       " 'max_features': 'log2',\n",
       " 'max_depth': 484,\n",
       " 'criterion': 'gini'}"
      ]
     },
     "execution_count": 38,
     "metadata": {},
     "output_type": "execute_result"
    }
   ],
   "source": [
    "best_parameters = rf_random.best_params_\n",
    "best_parameters"
   ]
  },
  {
   "cell_type": "code",
   "execution_count": 39,
   "id": "acb22084-f740-4844-83a9-924dcabc7967",
   "metadata": {},
   "outputs": [],
   "source": [
    "rf = RandomForestClassifier(n_estimators = 666, min_samples_split = 15,\n",
    " min_samples_leaf = 20,\n",
    " max_features ='log2',\n",
    " max_depth= 1242,\n",
    " criterion='gini')"
   ]
  },
  {
   "cell_type": "code",
   "execution_count": 40,
   "id": "70ff7b1a-b9a7-403e-a278-699871aa8da1",
   "metadata": {},
   "outputs": [
    {
     "data": {
      "text/plain": [
       "0.9006211180124224"
      ]
     },
     "execution_count": 40,
     "metadata": {},
     "output_type": "execute_result"
    }
   ],
   "source": [
    "rf.fit(xtrain, ytrain)\n",
    "accuracy= rf.score(xtest,ytest)\n",
    "accuracy"
   ]
  },
  {
   "cell_type": "code",
   "execution_count": 41,
   "id": "3cc4ebc4-062a-46a6-a36f-4e58b9401dae",
   "metadata": {},
   "outputs": [
    {
     "data": {
      "text/plain": [
       "sklearn.model_selection._search.GridSearchCV"
      ]
     },
     "execution_count": 41,
     "metadata": {},
     "output_type": "execute_result"
    }
   ],
   "source": [
    "GridSearchCV"
   ]
  },
  {
   "cell_type": "code",
   "execution_count": 42,
   "id": "f724e90d-a6c4-4761-88f1-dda314848a6e",
   "metadata": {},
   "outputs": [],
   "source": [
    "from sklearn.model_selection import GridSearchCV"
   ]
  },
  {
   "cell_type": "code",
   "execution_count": 43,
   "id": "0bf5e277-5305-47e3-b3f7-50d7924af599",
   "metadata": {},
   "outputs": [
    {
     "name": "stdout",
     "output_type": "stream",
     "text": [
      "{'n_estimators': [100, 128, 157, 185, 214, 242, 271, 300, 328, 357, 385, 414, 442, 471, 500], 'max_features': ['auto', 'sqrt', 'log2'], 'max_depth': [100, 200, 300, 400, 500, 600, 700, 800, 900, 1000], 'min_samples_split': [2, 5, 10, 12, 15], 'min_samples_leaf': [2, 4, 6, 8, 10, 15], 'criterion': ['gini', 'entropy']}\n"
     ]
    }
   ],
   "source": [
    "n_estimators = [int(x) for x in np.linspace(start = 100, stop= 500, num = 15)]\n",
    "max_features = ['auto','sqrt','log2']\n",
    "max_depth = [int(x) for x in np.linspace(start = 100, stop= 1000, num = 10)]\n",
    "min_samples_split = [2,5,10,12,15]\n",
    "min_samples_leaf = [2,4,6,8,10,15]\n",
    "#creat ids\n",
    "param_grid ={\n",
    "    'n_estimators' : n_estimators,\n",
    "    'max_features' : max_features,\n",
    "    'max_depth' : max_depth,\n",
    "    'min_samples_split' : min_samples_split,\n",
    "    'min_samples_leaf' : min_samples_leaf,\n",
    "    'criterion':['gini', 'entropy']\n",
    "}\n",
    "print(param_grid)"
   ]
  },
  {
   "cell_type": "code",
   "execution_count": 44,
   "id": "91a2378d-8f79-43b5-8323-707d8e861ece",
   "metadata": {},
   "outputs": [],
   "source": [
    "rf1=RandomForestClassifier()"
   ]
  },
  {
   "cell_type": "code",
   "execution_count": null,
   "id": "2a2a0d50-dd39-4b63-80b4-d6d5b8aea978",
   "metadata": {},
   "outputs": [],
   "source": []
  },
  {
   "cell_type": "markdown",
   "id": "f502f5a8-138b-490b-be90-0d33d79772f2",
   "metadata": {},
   "source": [
    "**DecisionTreeClassifier**"
   ]
  },
  {
   "cell_type": "code",
   "execution_count": null,
   "id": "6e949038-64fe-4de4-99cb-3f9d15215504",
   "metadata": {},
   "outputs": [],
   "source": []
  },
  {
   "cell_type": "code",
   "execution_count": 46,
   "id": "dc9db89c-2bb6-4eba-b902-895e809b14c8",
   "metadata": {},
   "outputs": [
    {
     "data": {
      "text/plain": [
       "0.8857142857142857"
      ]
     },
     "execution_count": 46,
     "metadata": {},
     "output_type": "execute_result"
    }
   ],
   "source": [
    "dt = DecisionTreeClassifier(max_depth=10)\n",
    "dt.fit(xtrain, ytrain)\n",
    "ypreddt = dt.predict(xtest)\n",
    "ypreddt\n",
    "accuracy= dt.score(xtest,ytest)\n",
    "accuracy"
   ]
  },
  {
   "cell_type": "code",
   "execution_count": 47,
   "id": "8ab6651d-9771-40f4-b7a1-1df7028f6811",
   "metadata": {},
   "outputs": [
    {
     "name": "stderr",
     "output_type": "stream",
     "text": [
      "C:\\ProgramData\\Anaconda3\\lib\\site-packages\\xgboost\\sklearn.py:1146: UserWarning: The use of label encoder in XGBClassifier is deprecated and will be removed in a future release. To remove this warning, do the following: 1) Pass option use_label_encoder=False when constructing XGBClassifier object; and 2) Encode your labels (y) as integers starting with 0, i.e. 0, 1, 2, ..., [num_class - 1].\n",
      "  warnings.warn(label_encoder_deprecation_msg, UserWarning)\n"
     ]
    },
    {
     "name": "stdout",
     "output_type": "stream",
     "text": [
      "[16:59:36] WARNING: C:/Users/Administrator/workspace/xgboost-win64_release_1.4.0/src/learner.cc:1095: Starting in XGBoost 1.3.0, the default evaluation metric used with the objective 'binary:logistic' was changed from 'error' to 'logloss'. Explicitly set eval_metric if you'd like to restore the old behavior.\n"
     ]
    },
    {
     "data": {
      "text/plain": [
       "0.8944099378881988"
      ]
     },
     "execution_count": 47,
     "metadata": {},
     "output_type": "execute_result"
    }
   ],
   "source": [
    "xgbst = XGBClassifier()\n",
    "xgbst.fit(xtrain, ytrain)\n",
    "ypredxg =xgbst.predict(xtest)\n",
    "ypredxg\n",
    "accuracy= xgbst.score(xtest,ytest)\n",
    "accuracy"
   ]
  }
 ],
 "metadata": {
  "kernelspec": {
   "display_name": "Python 3",
   "language": "python",
   "name": "python3"
  },
  "language_info": {
   "codemirror_mode": {
    "name": "ipython",
    "version": 3
   },
   "file_extension": ".py",
   "mimetype": "text/x-python",
   "name": "python",
   "nbconvert_exporter": "python",
   "pygments_lexer": "ipython3",
   "version": "3.8.8"
  }
 },
 "nbformat": 4,
 "nbformat_minor": 5
}
